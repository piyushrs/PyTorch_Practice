{
 "cells": [
  {
   "cell_type": "markdown",
   "metadata": {
    "id": "4N1e6TauBH0N"
   },
   "source": [
    "### **Importing Libraries**"
   ]
  },
  {
   "cell_type": "code",
   "execution_count": null,
   "metadata": {
    "colab": {
     "base_uri": "https://localhost:8080/"
    },
    "id": "h-nCuzORBKKy",
    "outputId": "681c6194-9761-4be8-d702-a8baf9b4abd3"
   },
   "outputs": [
    {
     "name": "stdout",
     "output_type": "stream",
     "text": [
      "\u001b[K     |████████████████████████████████| 1.9 MB 38.2 MB/s \n",
      "\u001b[K     |████████████████████████████████| 182 kB 63.2 MB/s \n",
      "\u001b[K     |████████████████████████████████| 168 kB 62.7 MB/s \n",
      "\u001b[K     |████████████████████████████████| 63 kB 2.0 MB/s \n",
      "\u001b[K     |████████████████████████████████| 166 kB 7.9 MB/s \n",
      "\u001b[K     |████████████████████████████████| 166 kB 54.8 MB/s \n",
      "\u001b[K     |████████████████████████████████| 162 kB 53.8 MB/s \n",
      "\u001b[K     |████████████████████████████████| 162 kB 47.1 MB/s \n",
      "\u001b[K     |████████████████████████████████| 158 kB 52.5 MB/s \n",
      "\u001b[K     |████████████████████████████████| 157 kB 53.2 MB/s \n",
      "\u001b[K     |████████████████████████████████| 157 kB 57.5 MB/s \n",
      "\u001b[K     |████████████████████████████████| 157 kB 59.3 MB/s \n",
      "\u001b[K     |████████████████████████████████| 157 kB 70.9 MB/s \n",
      "\u001b[K     |████████████████████████████████| 157 kB 68.3 MB/s \n",
      "\u001b[K     |████████████████████████████████| 157 kB 53.8 MB/s \n",
      "\u001b[K     |████████████████████████████████| 157 kB 53.7 MB/s \n",
      "\u001b[K     |████████████████████████████████| 156 kB 35.7 MB/s \n",
      "\u001b[?25h  Building wheel for pathtools (setup.py) ... \u001b[?25l\u001b[?25hdone\n"
     ]
    }
   ],
   "source": [
    "!pip3 install wandb -qq"
   ]
  },
  {
   "cell_type": "code",
   "execution_count": null,
   "metadata": {
    "id": "L32EG-piBH0R"
   },
   "outputs": [],
   "source": [
    "# Importing the necessary libraries\n",
    "import torch\n",
    "import torch.nn as nn\n",
    "import torchvision\n",
    "import torchvision.transforms as transforms\n",
    "\n",
    "import numpy as np\n",
    "import random\n",
    "\n",
    "from datetime import datetime\n",
    "from pathlib import Path\n",
    "import sys\n",
    "from types import SimpleNamespace\n",
    "\n",
    "from IPython.display import Image\n",
    "import matplotlib.pyplot as plt\n",
    "%matplotlib inline\n",
    "\n",
    "import wandb"
   ]
  },
  {
   "cell_type": "markdown",
   "metadata": {
    "id": "-vtaEWrGBH0T"
   },
   "source": [
    "### **Set seed**"
   ]
  },
  {
   "cell_type": "code",
   "execution_count": null,
   "metadata": {
    "id": "36_jLSkDBH0U"
   },
   "outputs": [],
   "source": [
    "SEED = 2345\n",
    "np.random.seed(SEED)\n",
    "torch.manual_seed(SEED)\n",
    "torch.cuda.manual_seed(SEED)\n",
    "torch.backends.cudnn.deterministic = True"
   ]
  },
  {
   "cell_type": "markdown",
   "metadata": {
    "id": "FGleQlMzBH0U"
   },
   "source": [
    "### **Wanbd Login**"
   ]
  },
  {
   "cell_type": "code",
   "execution_count": null,
   "metadata": {
    "colab": {
     "base_uri": "https://localhost:8080/",
     "height": 139
    },
    "id": "vPzn7PQnBH0V",
    "outputId": "8c4ca465-e955-4baa-a7d3-8af4aae99ff1"
   },
   "outputs": [
    {
     "name": "stderr",
     "output_type": "stream",
     "text": [
      "ERROR:wandb.jupyter:Failed to detect the name of this notebook, you can set it manually with the WANDB_NOTEBOOK_NAME environment variable to enable code saving.\n"
     ]
    },
    {
     "data": {
      "application/javascript": [
       "\n",
       "        window._wandbApiKey = new Promise((resolve, reject) => {\n",
       "            function loadScript(url) {\n",
       "            return new Promise(function(resolve, reject) {\n",
       "                let newScript = document.createElement(\"script\");\n",
       "                newScript.onerror = reject;\n",
       "                newScript.onload = resolve;\n",
       "                document.body.appendChild(newScript);\n",
       "                newScript.src = url;\n",
       "            });\n",
       "            }\n",
       "            loadScript(\"https://cdn.jsdelivr.net/npm/postmate/build/postmate.min.js\").then(() => {\n",
       "            const iframe = document.createElement('iframe')\n",
       "            iframe.style.cssText = \"width:0;height:0;border:none\"\n",
       "            document.body.appendChild(iframe)\n",
       "            const handshake = new Postmate({\n",
       "                container: iframe,\n",
       "                url: 'https://wandb.ai/authorize'\n",
       "            });\n",
       "            const timeout = setTimeout(() => reject(\"Couldn't auto authenticate\"), 5000)\n",
       "            handshake.then(function(child) {\n",
       "                child.on('authorize', data => {\n",
       "                    clearTimeout(timeout)\n",
       "                    resolve(data)\n",
       "                });\n",
       "            });\n",
       "            })\n",
       "        });\n",
       "    "
      ],
      "text/plain": [
       "<IPython.core.display.Javascript object>"
      ]
     },
     "metadata": {},
     "output_type": "display_data"
    },
    {
     "name": "stderr",
     "output_type": "stream",
     "text": [
      "\u001b[34m\u001b[1mwandb\u001b[0m: Logging into wandb.ai. (Learn how to deploy a W&B server locally: https://wandb.me/wandb-server)\n",
      "\u001b[34m\u001b[1mwandb\u001b[0m: You can find your API key in your browser here: https://wandb.ai/authorize\n",
      "wandb: Paste an API key from your profile and hit enter, or press ctrl+c to quit: "
     ]
    },
    {
     "name": "stdout",
     "output_type": "stream",
     "text": [
      "··········\n"
     ]
    },
    {
     "name": "stderr",
     "output_type": "stream",
     "text": [
      "\u001b[34m\u001b[1mwandb\u001b[0m: Appending key for api.wandb.ai to your netrc file: /root/.netrc\n"
     ]
    },
    {
     "data": {
      "text/plain": [
       "True"
      ]
     },
     "execution_count": 4,
     "metadata": {},
     "output_type": "execute_result"
    }
   ],
   "source": [
    "# Login to W&B\n",
    "wandb.login()"
   ]
  },
  {
   "cell_type": "markdown",
   "metadata": {
    "id": "hsqAd8XLBH0W"
   },
   "source": [
    "### **Data Folder declaration**"
   ]
  },
  {
   "cell_type": "code",
   "execution_count": null,
   "metadata": {
    "colab": {
     "base_uri": "https://localhost:8080/"
    },
    "id": "wMIWQbTajEvS",
    "outputId": "9b4427e0-6acc-45be-b640-1514af9105dd"
   },
   "outputs": [
    {
     "name": "stdout",
     "output_type": "stream",
     "text": [
      "Mounted at /content/drive\n"
     ]
    }
   ],
   "source": [
    "from google.colab import drive\n",
    "drive.mount('/content/drive')"
   ]
  },
  {
   "cell_type": "code",
   "execution_count": null,
   "metadata": {
    "id": "o_kiXxj_jOaW"
   },
   "outputs": [],
   "source": [
    "base_folder_drive = Path(\"/content/drive/MyDrive/Colab Notebooks/Deep Learning/Datasets/\")"
   ]
  },
  {
   "cell_type": "code",
   "execution_count": null,
   "metadata": {
    "id": "wsjLLXIYBH0X"
   },
   "outputs": [],
   "source": [
    "# base_folder = Path('u:\\\\OneDrive - The University of Texas at Dallas\\\\6382\\\\Datasets')"
   ]
  },
  {
   "cell_type": "code",
   "execution_count": null,
   "metadata": {
    "id": "gFaxUbBkBH0X"
   },
   "outputs": [],
   "source": [
    "data_folder = base_folder_drive/'cifar10/'\n",
    "archive_folder = base_folder_drive/'archive'\n",
    "model_folder = base_folder_drive/'models/cifar10'\n",
    "custom_functions = base_folder_drive/'custom-functions'"
   ]
  },
  {
   "cell_type": "code",
   "execution_count": null,
   "metadata": {
    "colab": {
     "base_uri": "https://localhost:8080/"
    },
    "id": "4xpqTa4DBH0Y",
    "outputId": "2e4ed8c9-c6d8-439e-8898-f54061ed39d2"
   },
   "outputs": [
    {
     "data": {
      "text/plain": [
       "['/content',\n",
       " '/env/python',\n",
       " '/usr/lib/python37.zip',\n",
       " '/usr/lib/python3.7',\n",
       " '/usr/lib/python3.7/lib-dynload',\n",
       " '',\n",
       " '/usr/local/lib/python3.7/dist-packages',\n",
       " '/usr/lib/python3/dist-packages',\n",
       " '/usr/local/lib/python3.7/dist-packages/IPython/extensions',\n",
       " '/root/.ipython',\n",
       " '/content/drive/MyDrive/Colab Notebooks/Deep Learning/Datasets/models/cifar10']"
      ]
     },
     "execution_count": 9,
     "metadata": {},
     "output_type": "execute_result"
    }
   ],
   "source": [
    "model_folder.mkdir(exist_ok=True, parents=True)\n",
    "data_folder.mkdir(exist_ok=True, parents=True)\n",
    "sys.path.append(str(model_folder))\n",
    "sys.path"
   ]
  },
  {
   "cell_type": "markdown",
   "metadata": {
    "id": "gmupr-uCBH0Z"
   },
   "source": [
    "### **Transformations and downloading dataset**"
   ]
  },
  {
   "cell_type": "code",
   "execution_count": null,
   "metadata": {
    "colab": {
     "base_uri": "https://localhost:8080/"
    },
    "id": "pF63SahPBH0Z",
    "outputId": "634493ca-57f3-4e2d-b977-91e80ee22c3e"
   },
   "outputs": [
    {
     "name": "stdout",
     "output_type": "stream",
     "text": [
      "Files already downloaded and verified\n",
      "Files already downloaded and verified\n",
      "Files already downloaded and verified\n"
     ]
    }
   ],
   "source": [
    "train_transform = transforms.Compose([\n",
    "    transforms.Resize((224, 224)),\n",
    "    transforms.RandomHorizontalFlip(),\n",
    "    transforms.ToTensor(),\n",
    "    transforms.Normalize((0.4914, 0.4822, 0.4465), (0.2023, 0.1994, 0.2010))\n",
    "])\n",
    "\n",
    "valid_transform = transforms.Compose([\n",
    "    transforms.Resize((224, 224)),                                     \n",
    "    transforms.ToTensor(),\n",
    "    transforms.Normalize((0.4914, 0.4822, 0.4465), (0.2023, 0.1994, 0.2010))\n",
    "])\n",
    "\n",
    "# Download the training_validation data (we will create two subsets - trainset and valset frpm this)\n",
    "train_set = torchvision.datasets.CIFAR10(root = data_folder, \n",
    "                                             train = True, \n",
    "                                             transform = train_transform, \n",
    "                                             download = True)\n",
    "\n",
    "valid_set = torchvision.datasets.CIFAR10(root = data_folder, \n",
    "                                             train = True, \n",
    "                                             transform = valid_transform, \n",
    "                                             download = True)\n",
    "\n",
    "# Download the testing data\n",
    "testset = torchvision.datasets.CIFAR10(root = data_folder, \n",
    "                                            train = False, \n",
    "                                            transform = valid_transform, \n",
    "                                            download = True)"
   ]
  },
  {
   "cell_type": "code",
   "execution_count": null,
   "metadata": {
    "id": "mm5_iI3sjdwB"
   },
   "outputs": [],
   "source": [
    "def split_dataset(base_dataset, fraction, seed):\n",
    "    split_a_size = int(fraction * len(base_dataset))\n",
    "    split_b_size = len(base_dataset) - split_a_size\n",
    "    return torch.utils.data.random_split(base_dataset, [split_a_size, split_b_size], \n",
    "                                         generator=torch.Generator().manual_seed(seed)\n",
    "    )"
   ]
  },
  {
   "cell_type": "code",
   "execution_count": null,
   "metadata": {
    "id": "8X5iQ2zpkcV1"
   },
   "outputs": [],
   "source": [
    "trainset, _ = split_dataset(train_set, 0.8, 42)\n",
    "_, validset = split_dataset(valid_set, 0.8, 42)"
   ]
  },
  {
   "cell_type": "code",
   "execution_count": null,
   "metadata": {
    "id": "vWv6Wu3cBH0b"
   },
   "outputs": [],
   "source": [
    "def train(train_loader, loss_function, model, optimizer, device, grad_clipping, max_norm, log_batch, log_interval):\n",
    "\n",
    "  # Training Loop \n",
    "\n",
    "  # initilalize variables as global\n",
    "  # these counts will be updated every epoch\n",
    "  global batch_ct_train\n",
    "\n",
    "  # Initialize train_loss at the he start of the epoch\n",
    "  running_train_loss = 0\n",
    "  running_train_correct = 0\n",
    "  \n",
    "  # put the model in training mode\n",
    "\n",
    "  model.train()\n",
    "  # Iterate on batches from the dataset using train_loader\n",
    "  for input_, targets in train_loader:\n",
    "    \n",
    "    # move inputs and outputs to GPUs\n",
    "    input_ = input_.to(device)\n",
    "    targets = targets.to(device)\n",
    "\n",
    "\n",
    "    # Step 1: Forward Pass: Compute model's predictions \n",
    "    output = model(input_)\n",
    "    \n",
    "    # Step 2: Compute loss\n",
    "    loss = loss_function(output, targets)\n",
    "\n",
    "    # Correct prediction\n",
    "    y_pred = torch.argmax(output, dim = 1)\n",
    "    correct = torch.sum(y_pred == targets)\n",
    "\n",
    "    batch_ct_train += 1\n",
    "\n",
    "    # Step 3: Backward pass -Compute the gradients\n",
    "    optimizer.zero_grad()\n",
    "    loss.backward()\n",
    "\n",
    "    # Gradient Clipping\n",
    "    if grad_clipping:\n",
    "      nn.utils.clip_grad_norm_(model.parameters(), max_norm=max_norm, norm_type=2)\n",
    "\n",
    "    # Step 4: Update the parameters\n",
    "    optimizer.step()\n",
    "          \n",
    "    # Add train loss of a batch \n",
    "    running_train_loss += loss.item()\n",
    "\n",
    "    # Add Corect counts of a batch\n",
    "    running_train_correct += correct\n",
    "\n",
    "    # log batch loss and accuracy\n",
    "    if log_batch:\n",
    "      if ((batch_ct_train + 1) % log_interval) == 0:\n",
    "        wandb.log({f\"Train Batch Loss  :\": loss})\n",
    "        wandb.log({f\"Train Batch Acc :\": correct/len(targets)})\n",
    "\n",
    "  \n",
    "  # Calculate mean train loss for the whole dataset for a particular epoch\n",
    "  train_loss = running_train_loss/len(train_loader)\n",
    "\n",
    "  # Calculate accuracy for the whole dataset for a particular epoch\n",
    "  train_acc = running_train_correct/len(train_loader.dataset)\n",
    "  \n",
    "\n",
    "  return train_loss, train_acc"
   ]
  },
  {
   "cell_type": "code",
   "execution_count": null,
   "metadata": {
    "id": "3dpahnDTBH0c"
   },
   "outputs": [],
   "source": [
    "def validate(valid_loader, loss_function, model, device, log_batch, log_interval):\n",
    "\n",
    "  # initilalize variables as global\n",
    "  # these counts will be updated every epoch\n",
    "  global batch_ct_valid\n",
    "\n",
    "  # Validation/Test loop\n",
    "  # Initialize valid_loss at the he strat of the epoch\n",
    "  running_val_loss = 0\n",
    "  running_val_correct = 0\n",
    "\n",
    "  # put the model in evaluation mode\n",
    "  model.eval()\n",
    "\n",
    "  with torch.no_grad():\n",
    "    for input_,targets in valid_loader:\n",
    "\n",
    "      # move inputs and outputs to GPUs\n",
    "      input_ = input_.to(device)\n",
    "      targets = targets.to(device)\n",
    "\n",
    "      # Step 1: Forward Pass: Compute model's predictions \n",
    "      output = model(input_)\n",
    "\n",
    "      # Step 2: Compute loss\n",
    "      loss = loss_function(output, targets)\n",
    "\n",
    "      # Correct Predictions\n",
    "      y_pred = torch.argmax(output, dim = 1)\n",
    "      correct = torch.sum(y_pred == targets)\n",
    "\n",
    "      batch_ct_valid += 1\n",
    "\n",
    "      # Add val loss of a batch \n",
    "      running_val_loss += loss.item()\n",
    "\n",
    "      # Add correct count for each batch\n",
    "      running_val_correct += correct\n",
    "\n",
    "      # log batch loss and accuracy\n",
    "      if log_batch:\n",
    "        if ((batch_ct_valid + 1) % log_interval) == 0:\n",
    "          wandb.log({f\"Valid Batch Loss  :\": loss})\n",
    "          wandb.log({f\"Valid Batch Accuracy :\": correct/len(targets)})\n",
    "\n",
    "    # Calculate mean val loss for the whole dataset for a particular epoch\n",
    "    val_loss = running_val_loss/len(valid_loader)\n",
    "\n",
    "    # Calculate accuracy for the whole dataset for a particular epoch\n",
    "    val_acc = running_val_correct/len(valid_loader.dataset)\n",
    "\n",
    "    # scheduler step\n",
    "    # scheduler.step(val_loss)\n",
    "    # scheduler.step()\n",
    "    \n",
    "  return val_loss, val_acc"
   ]
  },
  {
   "cell_type": "code",
   "execution_count": null,
   "metadata": {
    "id": "E3dXYS7lBH0c"
   },
   "outputs": [],
   "source": [
    "def train_loop(train_loader, valid_loader, model, optimizer, loss_function, epochs, device, patience, early_stopping,\n",
    "               file_model, save_best_model):\n",
    "    \n",
    "  \"\"\" \n",
    "  Function for training the model and plotting the graph for train & validation loss vs epoch.\n",
    "  Input: iterator for train dataset, initial weights and bias, epochs, learning rate, batch size.\n",
    "  Output: final weights, bias and train loss and validation loss for each epoch.\n",
    "  \"\"\"\n",
    "\n",
    "  # Create lists to store train and val loss at each epoch\n",
    "  train_loss_history = []\n",
    "  valid_loss_history = []\n",
    "  train_acc_history = []\n",
    "  valid_acc_history = []\n",
    "\n",
    "  # initialize variables for early stopping\n",
    "\n",
    "  delta = 0\n",
    "  best_score = None\n",
    "  valid_loss_min = np.Inf\n",
    "  counter_early_stop=0\n",
    "  early_stop=False\n",
    "\n",
    "  # Iterate for the given number of epochs\n",
    "  # Step 5: Repeat steps 1 - 4\n",
    "\n",
    "  for epoch in range(epochs):\n",
    "\n",
    "    t0 = datetime.now()\n",
    "\n",
    "    # Get train loss and accuracy for one epoch\n",
    "    train_loss, train_acc = train(train_loader, loss_function, model, optimizer,\n",
    "                                  wandb.config.device, wandb.config.grad_clipping, \n",
    "                                  wandb.config.max_norm, wandb.config.log_batch, wandb.config.log_interval)\n",
    "    valid_loss, valid_acc   = validate(valid_loader, loss_function, model, wandb.config.device, wandb.config.log_batch, wandb.config.log_interval)\n",
    "\n",
    "    dt = datetime.now() - t0\n",
    "\n",
    "    # Save history of the Losses and accuracy\n",
    "    train_loss_history.append(train_loss)\n",
    "    train_acc_history.append(train_acc)\n",
    "\n",
    "    valid_loss_history.append(valid_loss)\n",
    "    valid_acc_history.append(valid_acc)\n",
    "\n",
    "    # Log the train and valid loss to wandb\n",
    "    wandb.log({f\"Train Loss :\": train_loss, \"epoch\": epoch})\n",
    "    wandb.log({f\"Train Acc :\": train_acc, \"epoch\": epoch})\n",
    "\n",
    "    wandb.log({f\"Valid Loss :\": valid_loss, \"epoch\": epoch})\n",
    "    wandb.log({f\"Valid Acc :\": valid_acc, \"epoch\": epoch})\n",
    "\n",
    "    if early_stopping:\n",
    "      score = -valid_loss\n",
    "      if best_score is None:\n",
    "        best_score=score\n",
    "        print(f'Validation loss has decreased ({valid_loss_min:.6f} --> {valid_loss:.6f}). Saving Model...')\n",
    "        torch.save(model.state_dict(), file_model)\n",
    "        valid_loss_min = valid_loss\n",
    "\n",
    "      elif score < best_score + delta:\n",
    "        counter_early_stop += 1\n",
    "        print(f'Early stoping counter: {counter_early_stop} out of {patience}')\n",
    "        if counter_early_stop > patience:\n",
    "          early_stop = True\n",
    "\n",
    "      \n",
    "      else:\n",
    "        best_score = score\n",
    "        print(f'Validation loss has decreased ({valid_loss_min:.6f} --> {valid_loss:.6f}). Saving model...')\n",
    "        torch.save(model.state_dict(), file_model)\n",
    "        counter_early_stop=0\n",
    "        valid_loss_min = valid_loss\n",
    "\n",
    "      if early_stop:\n",
    "        print('Early Stopping')\n",
    "        break\n",
    "\n",
    "    elif save_best_model:\n",
    "\n",
    "      score = -valid_loss\n",
    "      if best_score is None:\n",
    "        best_score=score\n",
    "        print(f'Validation loss has decreased ({valid_loss_min:.6f} --> {valid_loss:.6f}). Saving Model...')\n",
    "        torch.save(model.state_dict(), file_model)\n",
    "        valid_loss_min = valid_loss\n",
    "\n",
    "      elif score < best_score + delta:\n",
    "        print(f'Validation loss has not decreased ({valid_loss_min:.6f} --> {valid_loss:.6f}). Not Saving Model...')\n",
    "      \n",
    "      else:\n",
    "        best_score = score\n",
    "        print(f'Validation loss has decreased ({valid_loss_min:.6f} --> {valid_loss:.6f}). Saving model...')\n",
    "        torch.save(model.state_dict(), file_model)\n",
    "        valid_loss_min = valid_loss\n",
    "        \n",
    "    else:\n",
    "        torch.save(model.state_dict(), file_model)\n",
    "    \n",
    "    # Print the train loss and accuracy for given number of epochs, batch size and number of samples\n",
    "    print(f'Epoch : {epoch+1} / {epochs}')\n",
    "    print(f'Time to complete {epoch+1} is {dt}')\n",
    "    # print(f'Learning rate: {scheduler._last_lr[0]}')\n",
    "    print(f'Train Loss: {train_loss : .4f} | Train Accuracy: {train_acc * 100 : .4f}%')\n",
    "    print(f'Valid Loss: {valid_loss : .4f} | Valid Accuracy: {valid_acc * 100 : .4f}%')\n",
    "    print()\n",
    "    torch.cuda.empty_cache()\n",
    "\n",
    "  return train_loss_history, train_acc_history, valid_loss_history, valid_acc_history"
   ]
  },
  {
   "cell_type": "code",
   "execution_count": null,
   "metadata": {
    "id": "Ozm43sTkBH0d"
   },
   "outputs": [],
   "source": [
    "def get_acc_pred(data_loader, model, device):\n",
    "    \n",
    "  \"\"\" \n",
    "  Function to get predictions and accuracy for a given data using estimated model\n",
    "  Input: Data iterator, Final estimated weoights, bias\n",
    "  Output: Prections and Accuracy for given dataset\n",
    "  \"\"\"\n",
    "\n",
    "  # Array to store predicted labels\n",
    "  predictions = torch.Tensor() # empty tensor\n",
    "  predictions = predictions.to(device) # move predictions to GPU\n",
    "\n",
    "  # Array to store actual labels\n",
    "  y = torch.Tensor() # empty tensor\n",
    "  y = y.to(device)\n",
    "\n",
    "  # put the model in evaluation mode\n",
    "  model.eval()\n",
    "  \n",
    "  # Iterate over batches from data iterator\n",
    "  with torch.no_grad():\n",
    "    for input_, targets in data_loader:\n",
    "      \n",
    "      # move inputs and outputs to GPUs\n",
    "      \n",
    "      input_ = input_.to(device)\n",
    "      targets = targets.to(device)\n",
    "      \n",
    "      # Calculated the predicted labels\n",
    "      output = model(input_)\n",
    "\n",
    "      # Choose the label with maximum probability\n",
    "      prediction = torch.argmax(output, dim = 1)\n",
    "\n",
    "      # Add the predicted labels to the array\n",
    "      predictions = torch.cat((predictions, prediction)) \n",
    "\n",
    "      # Add the actual labels to the array\n",
    "      y = torch.cat((y, targets)) \n",
    "\n",
    "  # Check for complete dataset if actual and predicted labels are same or not\n",
    "  # Calculate accuracy\n",
    "  acc = (predictions == y).float().mean()\n",
    "\n",
    "  # Return tuple containing predictions and accuracy\n",
    "  return predictions, acc  "
   ]
  },
  {
   "cell_type": "code",
   "execution_count": null,
   "metadata": {
    "id": "sC64m4WxBH0d"
   },
   "outputs": [],
   "source": [
    "def count_parameters(model): \n",
    "  \"\"\"\n",
    "  Function to count the number of trainable parameters in the model\n",
    "  Input: model\n",
    "  Output: Number of trainable parameters in the input model\n",
    "  \"\"\"\n",
    "  return sum(p.numel() for p in model.parameters() if p.requires_grad)\n"
   ]
  },
  {
   "cell_type": "code",
   "execution_count": null,
   "metadata": {
    "colab": {
     "base_uri": "https://localhost:8080/",
     "height": 136,
     "referenced_widgets": [
      "3a8927efd2e64684883e7a80a24a709e",
      "5f17d5da21b34318a210d0a633994bcb",
      "5fc9f1a04d04412897f9eeafb1969060",
      "2fa7292f061f4bdcab5521c66503769a",
      "8b99f8bcfd29425895bc6652a63c5f76",
      "739d71287d904077832492da71a46cc9",
      "6af43972873245dd97db5d6a4002d3d6",
      "f6948c018c5a4c1e947b334a8a915c14",
      "b4a43f6d530d45ed9901ec3d6db26298",
      "ba2e491582564ccc855e459cb3e07ffd",
      "e4e0e01368a0424f90b9d994e6ca59ee"
     ]
    },
    "id": "z1cGvH7BBuRQ",
    "outputId": "8f96be9d-11e5-49f7-e380-9698296dc7bc"
   },
   "outputs": [
    {
     "name": "stderr",
     "output_type": "stream",
     "text": [
      "/usr/local/lib/python3.7/dist-packages/torchvision/models/_utils.py:209: UserWarning: The parameter 'pretrained' is deprecated since 0.13 and will be removed in 0.15, please use 'weights' instead.\n",
      "  f\"The parameter '{pretrained_param}' is deprecated since 0.13 and will be removed in 0.15, \"\n",
      "/usr/local/lib/python3.7/dist-packages/torchvision/models/_utils.py:223: UserWarning: Arguments other than a weight enum or `None` for 'weights' are deprecated since 0.13 and will be removed in 0.15. The current behavior is equivalent to passing `weights=VGG16_Weights.IMAGENET1K_V1`. You can also use `weights=VGG16_Weights.DEFAULT` to get the most up-to-date weights.\n",
      "  warnings.warn(msg)\n",
      "Downloading: \"https://download.pytorch.org/models/vgg16-397923af.pth\" to /root/.cache/torch/hub/checkpoints/vgg16-397923af.pth\n"
     ]
    },
    {
     "data": {
      "application/vnd.jupyter.widget-view+json": {
       "model_id": "3a8927efd2e64684883e7a80a24a709e",
       "version_major": 2,
       "version_minor": 0
      },
      "text/plain": [
       "  0%|          | 0.00/528M [00:00<?, ?B/s]"
      ]
     },
     "metadata": {},
     "output_type": "display_data"
    }
   ],
   "source": [
    "model_vgg = torchvision.models.vgg16(pretrained=True)"
   ]
  },
  {
   "cell_type": "code",
   "execution_count": null,
   "metadata": {
    "colab": {
     "base_uri": "https://localhost:8080/"
    },
    "id": "vowRAG6rB4aQ",
    "outputId": "1842b688-d87e-40f3-cfd2-d177899f041d"
   },
   "outputs": [
    {
     "data": {
      "text/plain": [
       "VGG(\n",
       "  (features): Sequential(\n",
       "    (0): Conv2d(3, 64, kernel_size=(3, 3), stride=(1, 1), padding=(1, 1))\n",
       "    (1): ReLU(inplace=True)\n",
       "    (2): Conv2d(64, 64, kernel_size=(3, 3), stride=(1, 1), padding=(1, 1))\n",
       "    (3): ReLU(inplace=True)\n",
       "    (4): MaxPool2d(kernel_size=2, stride=2, padding=0, dilation=1, ceil_mode=False)\n",
       "    (5): Conv2d(64, 128, kernel_size=(3, 3), stride=(1, 1), padding=(1, 1))\n",
       "    (6): ReLU(inplace=True)\n",
       "    (7): Conv2d(128, 128, kernel_size=(3, 3), stride=(1, 1), padding=(1, 1))\n",
       "    (8): ReLU(inplace=True)\n",
       "    (9): MaxPool2d(kernel_size=2, stride=2, padding=0, dilation=1, ceil_mode=False)\n",
       "    (10): Conv2d(128, 256, kernel_size=(3, 3), stride=(1, 1), padding=(1, 1))\n",
       "    (11): ReLU(inplace=True)\n",
       "    (12): Conv2d(256, 256, kernel_size=(3, 3), stride=(1, 1), padding=(1, 1))\n",
       "    (13): ReLU(inplace=True)\n",
       "    (14): Conv2d(256, 256, kernel_size=(3, 3), stride=(1, 1), padding=(1, 1))\n",
       "    (15): ReLU(inplace=True)\n",
       "    (16): MaxPool2d(kernel_size=2, stride=2, padding=0, dilation=1, ceil_mode=False)\n",
       "    (17): Conv2d(256, 512, kernel_size=(3, 3), stride=(1, 1), padding=(1, 1))\n",
       "    (18): ReLU(inplace=True)\n",
       "    (19): Conv2d(512, 512, kernel_size=(3, 3), stride=(1, 1), padding=(1, 1))\n",
       "    (20): ReLU(inplace=True)\n",
       "    (21): Conv2d(512, 512, kernel_size=(3, 3), stride=(1, 1), padding=(1, 1))\n",
       "    (22): ReLU(inplace=True)\n",
       "    (23): MaxPool2d(kernel_size=2, stride=2, padding=0, dilation=1, ceil_mode=False)\n",
       "    (24): Conv2d(512, 512, kernel_size=(3, 3), stride=(1, 1), padding=(1, 1))\n",
       "    (25): ReLU(inplace=True)\n",
       "    (26): Conv2d(512, 512, kernel_size=(3, 3), stride=(1, 1), padding=(1, 1))\n",
       "    (27): ReLU(inplace=True)\n",
       "    (28): Conv2d(512, 512, kernel_size=(3, 3), stride=(1, 1), padding=(1, 1))\n",
       "    (29): ReLU(inplace=True)\n",
       "    (30): MaxPool2d(kernel_size=2, stride=2, padding=0, dilation=1, ceil_mode=False)\n",
       "  )\n",
       "  (avgpool): AdaptiveAvgPool2d(output_size=(7, 7))\n",
       "  (classifier): Sequential(\n",
       "    (0): Linear(in_features=25088, out_features=4096, bias=True)\n",
       "    (1): ReLU(inplace=True)\n",
       "    (2): Dropout(p=0.5, inplace=False)\n",
       "    (3): Linear(in_features=4096, out_features=4096, bias=True)\n",
       "    (4): ReLU(inplace=True)\n",
       "    (5): Dropout(p=0.5, inplace=False)\n",
       "    (6): Linear(in_features=4096, out_features=1000, bias=True)\n",
       "  )\n",
       ")"
      ]
     },
     "execution_count": 18,
     "metadata": {},
     "output_type": "execute_result"
    }
   ],
   "source": [
    "# Display the model structure\n",
    "model_vgg"
   ]
  },
  {
   "cell_type": "code",
   "execution_count": null,
   "metadata": {
    "colab": {
     "base_uri": "https://localhost:8080/"
    },
    "id": "zZ710V7iB7gL",
    "outputId": "55690486-1043-43d1-a607-376b8015556f"
   },
   "outputs": [
    {
     "name": "stdout",
     "output_type": "stream",
     "text": [
      "138357544\n"
     ]
    }
   ],
   "source": [
    "# Print the number of parameters in the model\n",
    "print(count_parameters(model_vgg))"
   ]
  },
  {
   "cell_type": "code",
   "execution_count": null,
   "metadata": {
    "id": "OtsC-2A6BH0f"
   },
   "outputs": [],
   "source": [
    "# Task 1\n",
    "vgg16_task1 = torchvision.models.vgg16(pretrained=True)\n",
    "vgg16_task1.classifier[6].out_features = 10\n",
    "\n",
    "# freeze convolution weights\n",
    "for param in vgg16_task1.features.parameters():\n",
    "    param.requires_grad = False"
   ]
  },
  {
   "cell_type": "markdown",
   "metadata": {
    "id": "pbIZuR60t2Pq"
   },
   "source": [
    "### Hyperparameters"
   ]
  },
  {
   "cell_type": "code",
   "execution_count": null,
   "metadata": {
    "id": "-2ACd16cBH0f"
   },
   "outputs": [],
   "source": [
    "hyperparameters = SimpleNamespace(\n",
    "    epochs = 2,\n",
    "    batch_size=256,\n",
    "    learning_rate=0.05,\n",
    "    dataset=\"CIFAR10\",\n",
    "    architecture=\"Pretrained-VGG\",\n",
    "    log_interval = 100,\n",
    "    log_batch = True,\n",
    "    file_model = model_folder/'pre_vgg_cifar10_task1.pt',\n",
    "    grad_clipping = True,\n",
    "    max_norm = 1,\n",
    "    patience = 5,\n",
    "    early_stopping = False,\n",
    "    weight_decay = 0,\n",
    "    save_best_model = True,\n",
    "    device = torch.device('cuda:0' if torch.cuda.is_available() else 'cpu')\n",
    "    )"
   ]
  },
  {
   "cell_type": "code",
   "execution_count": null,
   "metadata": {
    "colab": {
     "base_uri": "https://localhost:8080/",
     "height": 113
    },
    "id": "4Pjny628BH0f",
    "outputId": "c42bc484-5f80-4bf0-c37a-72b9d1c32af0"
   },
   "outputs": [
    {
     "name": "stderr",
     "output_type": "stream",
     "text": [
      "\u001b[34m\u001b[1mwandb\u001b[0m: Currently logged in as: \u001b[33mpiyushrs\u001b[0m. Use \u001b[1m`wandb login --relogin`\u001b[0m to force relogin\n"
     ]
    },
    {
     "data": {
      "text/html": [
       "Tracking run with wandb version 0.13.5"
      ],
      "text/plain": [
       "<IPython.core.display.HTML object>"
      ]
     },
     "metadata": {},
     "output_type": "display_data"
    },
    {
     "data": {
      "text/html": [
       "Run data is saved locally in <code>/content/wandb/run-20221118_191559-2v5f90b3</code>"
      ],
      "text/plain": [
       "<IPython.core.display.HTML object>"
      ]
     },
     "metadata": {},
     "output_type": "display_data"
    },
    {
     "data": {
      "text/html": [
       "Syncing run <strong><a href=\"https://wandb.ai/piyushrs/VGG_HW7_Copy/runs/2v5f90b3\" target=\"_blank\">exp1</a></strong> to <a href=\"https://wandb.ai/piyushrs/VGG_HW7_Copy\" target=\"_blank\">Weights & Biases</a> (<a href=\"https://wandb.me/run\" target=\"_blank\">docs</a>)<br/>"
      ],
      "text/plain": [
       "<IPython.core.display.HTML object>"
      ]
     },
     "metadata": {},
     "output_type": "display_data"
    },
    {
     "data": {
      "text/html": [
       "<button onClick=\"this.nextSibling.style.display='block';this.style.display='none';\">Display W&B run</button><iframe src=\"https://wandb.ai/piyushrs/VGG_HW7_Copy/runs/2v5f90b3?jupyter=true\" style=\"border:none;width:100%;height:420px;display:none;\"></iframe>"
      ],
      "text/plain": [
       "<wandb.sdk.wandb_run.Run at 0x7f57c9d4df50>"
      ]
     },
     "execution_count": 22,
     "metadata": {},
     "output_type": "execute_result"
    }
   ],
   "source": [
    "wandb.init(name = \"exp1\", project = 'VGG_HW7_Copy' , config = hyperparameters)"
   ]
  },
  {
   "cell_type": "code",
   "execution_count": null,
   "metadata": {
    "colab": {
     "base_uri": "https://localhost:8080/"
    },
    "id": "qegS8KSpBH0g",
    "outputId": "14bec7df-19db-4cc7-8746-a761b9ab2c80"
   },
   "outputs": [
    {
     "data": {
      "text/plain": [
       "{'epochs': 2, 'batch_size': 256, 'learning_rate': 0.05, 'dataset': 'CIFAR10', 'architecture': 'Pretrained-VGG', 'log_interval': 100, 'log_batch': True, 'file_model': '/content/drive/MyDrive/Colab Notebooks/Deep Learning/Datasets/models/cifar10/pre_vgg_cifar10_task1.pt', 'grad_clipping': True, 'max_norm': 1, 'patience': 5, 'early_stopping': False, 'weight_decay': 0, 'save_best_model': True, 'device': 'cuda:0'}"
      ]
     },
     "execution_count": 23,
     "metadata": {},
     "output_type": "execute_result"
    }
   ],
   "source": [
    "wandb.config"
   ]
  },
  {
   "cell_type": "code",
   "execution_count": null,
   "metadata": {
    "id": "Qf5IzeAjBH0g"
   },
   "outputs": [],
   "source": [
    "train_loader = torch.utils.data.DataLoader(trainset, batch_size=wandb.config.batch_size, shuffle = True)\n",
    "valid_loader = torch.utils.data.DataLoader(validset, batch_size=wandb.config.batch_size, shuffle = False)\n",
    "test_loader = torch.utils.data.DataLoader(testset, batch_size=wandb.config.batch_size,   shuffle = False)"
   ]
  },
  {
   "cell_type": "code",
   "execution_count": null,
   "metadata": {
    "id": "1Z7ZQZ_kBH0g"
   },
   "outputs": [],
   "source": [
    "model = vgg16_task1\n",
    "model.to(wandb.config.device)\n",
    "# model.apply(init_weights)\n",
    "\n",
    "# loss_function\n",
    "loss_function = nn.CrossEntropyLoss()\n",
    "loss_function.to(wandb.config.device)\n",
    "# optimizer = torch.optim.Adam(model.parameters(), lr = wandb.config.learning_rate)\n",
    "# optimizer = torch.optim.Adagrad(model.parameters(), lr = wandb.config.learning_rate)\n",
    "optimizer = torch.optim.SGD(model.parameters(), lr =wandb.config.learning_rate, \n",
    "                            weight_decay=wandb.config.weight_decay, momentum = 0.9)\n",
    "# schedular = torch.optim.lr_scheduler.CosineAnnealingLR(optimizer, eta_min = 0.0001, T_max=10)"
   ]
  },
  {
   "cell_type": "code",
   "execution_count": null,
   "metadata": {
    "colab": {
     "base_uri": "https://localhost:8080/"
    },
    "id": "iZLVlu7pBH0g",
    "outputId": "a641642a-0f6b-4557-9803-283f72db1d0e"
   },
   "outputs": [
    {
     "data": {
      "text/plain": [
       "VGG(\n",
       "  (features): Sequential(\n",
       "    (0): Conv2d(3, 64, kernel_size=(3, 3), stride=(1, 1), padding=(1, 1))\n",
       "    (1): ReLU(inplace=True)\n",
       "    (2): Conv2d(64, 64, kernel_size=(3, 3), stride=(1, 1), padding=(1, 1))\n",
       "    (3): ReLU(inplace=True)\n",
       "    (4): MaxPool2d(kernel_size=2, stride=2, padding=0, dilation=1, ceil_mode=False)\n",
       "    (5): Conv2d(64, 128, kernel_size=(3, 3), stride=(1, 1), padding=(1, 1))\n",
       "    (6): ReLU(inplace=True)\n",
       "    (7): Conv2d(128, 128, kernel_size=(3, 3), stride=(1, 1), padding=(1, 1))\n",
       "    (8): ReLU(inplace=True)\n",
       "    (9): MaxPool2d(kernel_size=2, stride=2, padding=0, dilation=1, ceil_mode=False)\n",
       "    (10): Conv2d(128, 256, kernel_size=(3, 3), stride=(1, 1), padding=(1, 1))\n",
       "    (11): ReLU(inplace=True)\n",
       "    (12): Conv2d(256, 256, kernel_size=(3, 3), stride=(1, 1), padding=(1, 1))\n",
       "    (13): ReLU(inplace=True)\n",
       "    (14): Conv2d(256, 256, kernel_size=(3, 3), stride=(1, 1), padding=(1, 1))\n",
       "    (15): ReLU(inplace=True)\n",
       "    (16): MaxPool2d(kernel_size=2, stride=2, padding=0, dilation=1, ceil_mode=False)\n",
       "    (17): Conv2d(256, 512, kernel_size=(3, 3), stride=(1, 1), padding=(1, 1))\n",
       "    (18): ReLU(inplace=True)\n",
       "    (19): Conv2d(512, 512, kernel_size=(3, 3), stride=(1, 1), padding=(1, 1))\n",
       "    (20): ReLU(inplace=True)\n",
       "    (21): Conv2d(512, 512, kernel_size=(3, 3), stride=(1, 1), padding=(1, 1))\n",
       "    (22): ReLU(inplace=True)\n",
       "    (23): MaxPool2d(kernel_size=2, stride=2, padding=0, dilation=1, ceil_mode=False)\n",
       "    (24): Conv2d(512, 512, kernel_size=(3, 3), stride=(1, 1), padding=(1, 1))\n",
       "    (25): ReLU(inplace=True)\n",
       "    (26): Conv2d(512, 512, kernel_size=(3, 3), stride=(1, 1), padding=(1, 1))\n",
       "    (27): ReLU(inplace=True)\n",
       "    (28): Conv2d(512, 512, kernel_size=(3, 3), stride=(1, 1), padding=(1, 1))\n",
       "    (29): ReLU(inplace=True)\n",
       "    (30): MaxPool2d(kernel_size=2, stride=2, padding=0, dilation=1, ceil_mode=False)\n",
       "  )\n",
       "  (avgpool): AdaptiveAvgPool2d(output_size=(7, 7))\n",
       "  (classifier): Sequential(\n",
       "    (0): Linear(in_features=25088, out_features=4096, bias=True)\n",
       "    (1): ReLU(inplace=True)\n",
       "    (2): Dropout(p=0.5, inplace=False)\n",
       "    (3): Linear(in_features=4096, out_features=4096, bias=True)\n",
       "    (4): ReLU(inplace=True)\n",
       "    (5): Dropout(p=0.5, inplace=False)\n",
       "    (6): Linear(in_features=4096, out_features=10, bias=True)\n",
       "  )\n",
       ")"
      ]
     },
     "execution_count": 26,
     "metadata": {},
     "output_type": "execute_result"
    }
   ],
   "source": [
    "model"
   ]
  },
  {
   "cell_type": "code",
   "execution_count": null,
   "metadata": {
    "colab": {
     "base_uri": "https://localhost:8080/"
    },
    "id": "fFFXRnKgBH0g",
    "outputId": "ecfb4802-b36f-404a-98a6-6a14198f5e71"
   },
   "outputs": [
    {
     "data": {
      "text/plain": [
       "[]"
      ]
     },
     "execution_count": 27,
     "metadata": {},
     "output_type": "execute_result"
    }
   ],
   "source": [
    "wandb.watch(model)"
   ]
  },
  {
   "cell_type": "code",
   "execution_count": null,
   "metadata": {
    "colab": {
     "base_uri": "https://localhost:8080/"
    },
    "id": "y_825M30BH0h",
    "outputId": "db1e9e30-d781-48db-d6d4-14eac5a0dfdf"
   },
   "outputs": [
    {
     "name": "stdout",
     "output_type": "stream",
     "text": [
      "Validation loss has decreased (inf --> 0.414534). Saving Model...\n",
      "Epoch : 1 / 2\n",
      "Time to complete 1 is 0:08:00.855478\n",
      "Train Loss:  1.2072 | Train Accuracy:  70.9600%\n",
      "Valid Loss:  0.4145 | Valid Accuracy:  85.8800%\n",
      "\n",
      "Validation loss has decreased (0.414534 --> 0.350146). Saving model...\n",
      "Epoch : 2 / 2\n",
      "Time to complete 2 is 0:07:59.609661\n",
      "Train Loss:  0.4104 | Train Accuracy:  85.7075%\n",
      "Valid Loss:  0.3501 | Valid Accuracy:  87.5200%\n",
      "\n"
     ]
    }
   ],
   "source": [
    "batch_ct_train, batch_ct_valid = 0, 0\n",
    "train_loss_history, train_acc_history, valid_loss_history, valid_acc_history = train_loop(train_loader, \n",
    "                                                                                          valid_loader, \n",
    "                                                                                          model, \n",
    "                                                                                          optimizer, \n",
    "                                                                                          loss_function, \n",
    "                                                                                          wandb.config.epochs, \n",
    "                                                                                          wandb.config.device,\n",
    "                                                                                          wandb.config.patience,\n",
    "                                                                                          wandb.config.early_stopping,\n",
    "                                                                                          wandb.config.file_model,\n",
    "                                                                                          wandb.config.save_best_model\n",
    "                                                                                       )"
   ]
  },
  {
   "cell_type": "code",
   "execution_count": null,
   "metadata": {
    "colab": {
     "base_uri": "https://localhost:8080/"
    },
    "id": "P50sFz6fJqzd",
    "outputId": "4efa3fd2-0137-462f-aed4-740fcf54b5b8"
   },
   "outputs": [
    {
     "name": "stdout",
     "output_type": "stream",
     "text": [
      "Test accuracy tensor(86.9200, device='cuda:0')\n"
     ]
    }
   ],
   "source": [
    "# Get the prediction and accuracy for the test dataseta\n",
    "predictions_test, acc_test = get_acc_pred(test_loader, model, wandb.config.device)\n",
    "\n",
    "print('Test accuracy', acc_test * 100)\n",
    "\n",
    "wandb.log({'Best_test_Acc': acc_test})"
   ]
  },
  {
   "cell_type": "code",
   "execution_count": null,
   "metadata": {
    "colab": {
     "base_uri": "https://localhost:8080/",
     "height": 449,
     "referenced_widgets": [
      "aa0fa6764a5b4b979d18548d6a1f66f8",
      "f6e4206d9c3845aba611e0e9afd0188e",
      "699a25f0a83d454ab65df9042c95d710",
      "5e67412b8c86481b88ecc4b897fdb54d",
      "0bace81314cc45ec9ec9b540dfd3546d",
      "cbefa73ee41044a699e8a6f65d973944",
      "c051d9cd594047c2b45f95b25eea5c1a",
      "612284bb2d7740b29d1a3c0411c08932"
     ]
    },
    "id": "M0Hr_l4htx2w",
    "outputId": "1d84a6e8-68fc-4caf-fc49-2be45c57a1fc"
   },
   "outputs": [
    {
     "data": {
      "text/html": [
       "Waiting for W&B process to finish... <strong style=\"color:green\">(success).</strong>"
      ],
      "text/plain": [
       "<IPython.core.display.HTML object>"
      ]
     },
     "metadata": {},
     "output_type": "display_data"
    },
    {
     "data": {
      "application/vnd.jupyter.widget-view+json": {
       "model_id": "aa0fa6764a5b4b979d18548d6a1f66f8",
       "version_major": 2,
       "version_minor": 0
      },
      "text/plain": [
       "VBox(children=(Label(value='0.001 MB of 0.001 MB uploaded (0.000 MB deduped)\\r'), FloatProgress(value=1.0, max…"
      ]
     },
     "metadata": {},
     "output_type": "display_data"
    },
    {
     "data": {
      "text/html": [
       "<style>\n",
       "    table.wandb td:nth-child(1) { padding: 0 10px; text-align: left ; width: auto;} td:nth-child(2) {text-align: left ; width: 100%}\n",
       "    .wandb-row { display: flex; flex-direction: row; flex-wrap: wrap; justify-content: flex-start; width: 100% }\n",
       "    .wandb-col { display: flex; flex-direction: column; flex-basis: 100%; flex: 1; padding: 10px; }\n",
       "    </style>\n",
       "<div class=\"wandb-row\"><div class=\"wandb-col\"><h3>Run history:</h3><br/><table class=\"wandb\"><tr><td>Best_test_Acc</td><td>▁</td></tr><tr><td>Train Acc :</td><td>▁█</td></tr><tr><td>Train Batch Acc :</td><td>▁▄█</td></tr><tr><td>Train Batch Loss  :</td><td>█▅▁</td></tr><tr><td>Train Loss :</td><td>█▁</td></tr><tr><td>Valid Acc :</td><td>▁█</td></tr><tr><td>Valid Loss :</td><td>█▁</td></tr><tr><td>epoch</td><td>▁▁▁▁████</td></tr></table><br/></div><div class=\"wandb-col\"><h3>Run summary:</h3><br/><table class=\"wandb\"><tr><td>Best_test_Acc</td><td>0.8692</td></tr><tr><td>Train Acc :</td><td>0.85707</td></tr><tr><td>Train Batch Acc :</td><td>0.86719</td></tr><tr><td>Train Batch Loss  :</td><td>0.33893</td></tr><tr><td>Train Loss :</td><td>0.41043</td></tr><tr><td>Valid Acc :</td><td>0.8752</td></tr><tr><td>Valid Loss :</td><td>0.35015</td></tr><tr><td>epoch</td><td>1</td></tr></table><br/></div></div>"
      ],
      "text/plain": [
       "<IPython.core.display.HTML object>"
      ]
     },
     "metadata": {},
     "output_type": "display_data"
    },
    {
     "data": {
      "text/html": [
       "Synced <strong style=\"color:#cdcd00\">exp1</strong>: <a href=\"https://wandb.ai/piyushrs/VGG_HW7_Copy/runs/2v5f90b3\" target=\"_blank\">https://wandb.ai/piyushrs/VGG_HW7_Copy/runs/2v5f90b3</a><br/>Synced 5 W&B file(s), 0 media file(s), 0 artifact file(s) and 0 other file(s)"
      ],
      "text/plain": [
       "<IPython.core.display.HTML object>"
      ]
     },
     "metadata": {},
     "output_type": "display_data"
    },
    {
     "data": {
      "text/html": [
       "Find logs at: <code>./wandb/run-20221118_191559-2v5f90b3/logs</code>"
      ],
      "text/plain": [
       "<IPython.core.display.HTML object>"
      ]
     },
     "metadata": {},
     "output_type": "display_data"
    }
   ],
   "source": [
    "wandb.finish()"
   ]
  },
  {
   "cell_type": "code",
   "execution_count": null,
   "metadata": {
    "id": "OopknPNv5l5O"
   },
   "outputs": [],
   "source": [
    "# Task 2\n",
    "vgg16_task2 = torchvision.models.vgg16(pretrained=True)\n",
    "vgg16_task2.classifier[6].out_features = 10\n",
    "\n",
    "# freeze convolution weights\n",
    "for param in vgg16_task2.features[:24].parameters():\n",
    "    param.requires_grad = False"
   ]
  },
  {
   "cell_type": "code",
   "execution_count": null,
   "metadata": {
    "id": "QZXZxB565ygf"
   },
   "outputs": [],
   "source": [
    "hyperparameters = SimpleNamespace(\n",
    "    epochs = 2,\n",
    "    batch_size=256,\n",
    "    learning_rate=0.05,\n",
    "    dataset=\"CIFAR10\",\n",
    "    architecture=\"Pretrained-VGG\",\n",
    "    log_interval = 100,\n",
    "    log_batch = True,\n",
    "    file_model = model_folder/'pre_vgg_cifar10_task2.pt',\n",
    "    grad_clipping = True,\n",
    "    max_norm = 1,\n",
    "    patience = 5,\n",
    "    early_stopping = False,\n",
    "    weight_decay = 0,\n",
    "    save_best_model = True,\n",
    "    device = torch.device('cuda:0' if torch.cuda.is_available() else 'cpu')\n",
    "    )"
   ]
  },
  {
   "cell_type": "code",
   "execution_count": null,
   "metadata": {
    "colab": {
     "base_uri": "https://localhost:8080/",
     "height": 96
    },
    "id": "54C2vWOy54Xn",
    "outputId": "89e1915c-c9a9-4a10-cc35-11c64b5ae810"
   },
   "outputs": [
    {
     "data": {
      "text/html": [
       "Tracking run with wandb version 0.13.5"
      ],
      "text/plain": [
       "<IPython.core.display.HTML object>"
      ]
     },
     "metadata": {},
     "output_type": "display_data"
    },
    {
     "data": {
      "text/html": [
       "Run data is saved locally in <code>/content/wandb/run-20221118_193823-3t6nthg7</code>"
      ],
      "text/plain": [
       "<IPython.core.display.HTML object>"
      ]
     },
     "metadata": {},
     "output_type": "display_data"
    },
    {
     "data": {
      "text/html": [
       "Syncing run <strong><a href=\"https://wandb.ai/piyushrs/VGG_HW7_Copy/runs/3t6nthg7\" target=\"_blank\">exp2</a></strong> to <a href=\"https://wandb.ai/piyushrs/VGG_HW7_Copy\" target=\"_blank\">Weights & Biases</a> (<a href=\"https://wandb.me/run\" target=\"_blank\">docs</a>)<br/>"
      ],
      "text/plain": [
       "<IPython.core.display.HTML object>"
      ]
     },
     "metadata": {},
     "output_type": "display_data"
    },
    {
     "data": {
      "text/html": [
       "<button onClick=\"this.nextSibling.style.display='block';this.style.display='none';\">Display W&B run</button><iframe src=\"https://wandb.ai/piyushrs/VGG_HW7_Copy/runs/3t6nthg7?jupyter=true\" style=\"border:none;width:100%;height:420px;display:none;\"></iframe>"
      ],
      "text/plain": [
       "<wandb.sdk.wandb_run.Run at 0x7f57c46f7d50>"
      ]
     },
     "execution_count": 34,
     "metadata": {},
     "output_type": "execute_result"
    }
   ],
   "source": [
    "wandb.init(name = \"exp2\", project = 'VGG_HW7_Copy' , config = hyperparameters)"
   ]
  },
  {
   "cell_type": "code",
   "execution_count": null,
   "metadata": {
    "colab": {
     "base_uri": "https://localhost:8080/"
    },
    "id": "z0xdyxiQ54zN",
    "outputId": "2755a685-1657-4a14-c409-085b2523e0f1"
   },
   "outputs": [
    {
     "data": {
      "text/plain": [
       "{'epochs': 2, 'batch_size': 256, 'learning_rate': 0.05, 'dataset': 'CIFAR10', 'architecture': 'Pretrained-VGG', 'log_interval': 100, 'log_batch': True, 'file_model': '/content/drive/MyDrive/Colab Notebooks/Deep Learning/Datasets/models/cifar10/pre_vgg_cifar10_task2.pt', 'grad_clipping': True, 'max_norm': 1, 'patience': 5, 'early_stopping': False, 'weight_decay': 0, 'save_best_model': True, 'device': 'cuda:0'}"
      ]
     },
     "execution_count": 35,
     "metadata": {},
     "output_type": "execute_result"
    }
   ],
   "source": [
    "wandb.config"
   ]
  },
  {
   "cell_type": "code",
   "execution_count": null,
   "metadata": {
    "id": "MvRFG_UV56ob"
   },
   "outputs": [],
   "source": [
    "train_loader = torch.utils.data.DataLoader(trainset, batch_size=wandb.config.batch_size, shuffle = True)\n",
    "valid_loader = torch.utils.data.DataLoader(validset, batch_size=wandb.config.batch_size, shuffle = False)\n",
    "test_loader = torch.utils.data.DataLoader(testset, batch_size=wandb.config.batch_size,   shuffle = False)\n",
    "\n",
    "model = vgg16_task2\n",
    "model.to(wandb.config.device)\n",
    "# model.apply(init_weights)\n",
    "\n",
    "# loss_function\n",
    "loss_function = nn.CrossEntropyLoss()\n",
    "loss_function.to(wandb.config.device)\n",
    "# optimizer = torch.optim.Adam(model.parameters(), lr = wandb.config.learning_rate)\n",
    "optimizer = torch.optim.SGD(model.parameters(), lr =wandb.config.learning_rate, \n",
    "                            weight_decay=wandb.config.weight_decay, momentum = 0.9)\n",
    "schedular = torch.optim.lr_scheduler.CosineAnnealingLR(optimizer, eta_min = 0.0001, T_max=10)"
   ]
  },
  {
   "cell_type": "code",
   "execution_count": null,
   "metadata": {
    "colab": {
     "base_uri": "https://localhost:8080/"
    },
    "id": "N76a6BOu6GJB",
    "outputId": "4ec7835b-3b88-4d4f-e17b-37c6f7dc3408"
   },
   "outputs": [
    {
     "data": {
      "text/plain": [
       "[]"
      ]
     },
     "execution_count": 37,
     "metadata": {},
     "output_type": "execute_result"
    }
   ],
   "source": [
    "wandb.watch(model)"
   ]
  },
  {
   "cell_type": "code",
   "execution_count": null,
   "metadata": {
    "colab": {
     "base_uri": "https://localhost:8080/"
    },
    "id": "2omztBF-6DZr",
    "outputId": "00296633-c4d6-46d7-e286-4625f6472537"
   },
   "outputs": [
    {
     "name": "stdout",
     "output_type": "stream",
     "text": [
      "Validation loss has decreased (inf --> 0.391150). Saving Model...\n",
      "Epoch : 1 / 2\n",
      "Time to complete 1 is 0:08:54.779366\n",
      "Train Loss:  1.1711 | Train Accuracy:  70.2775%\n",
      "Valid Loss:  0.3912 | Valid Accuracy:  86.7200%\n",
      "\n",
      "Validation loss has decreased (0.391150 --> 0.313125). Saving model...\n",
      "Epoch : 2 / 2\n",
      "Time to complete 2 is 0:08:51.494638\n",
      "Train Loss:  0.3483 | Train Accuracy:  88.2325%\n",
      "Valid Loss:  0.3131 | Valid Accuracy:  89.4000%\n",
      "\n"
     ]
    }
   ],
   "source": [
    "batch_ct_train, batch_ct_valid = 0, 0\n",
    "train_loss_history, train_acc_history, valid_loss_history, valid_acc_history = train_loop(train_loader, \n",
    "                                                                                          valid_loader, \n",
    "                                                                                          model, \n",
    "                                                                                          optimizer, \n",
    "                                                                                          loss_function, \n",
    "                                                                                          wandb.config.epochs, \n",
    "                                                                                          wandb.config.device,\n",
    "                                                                                          wandb.config.patience,\n",
    "                                                                                          wandb.config.early_stopping,\n",
    "                                                                                          wandb.config.file_model,\n",
    "                                                                                          wandb.config.save_best_model\n",
    "                                                                                       )"
   ]
  },
  {
   "cell_type": "code",
   "execution_count": null,
   "metadata": {
    "colab": {
     "base_uri": "https://localhost:8080/"
    },
    "id": "Np4GTdbrJ1gz",
    "outputId": "679296a3-4e9d-42d8-9b59-4658c0bc69a6"
   },
   "outputs": [
    {
     "name": "stdout",
     "output_type": "stream",
     "text": [
      "Test accuracy tensor(88.8400, device='cuda:0')\n"
     ]
    }
   ],
   "source": [
    "# Get the prediction and accuracy for the test dataseta\n",
    "predictions_test, acc_test = get_acc_pred(test_loader, model, wandb.config.device)\n",
    "\n",
    "print('Test accuracy', acc_test * 100)\n",
    "\n",
    "wandb.log({'Best_test_Acc': acc_test})"
   ]
  },
  {
   "cell_type": "code",
   "execution_count": null,
   "metadata": {
    "colab": {
     "base_uri": "https://localhost:8080/",
     "height": 449,
     "referenced_widgets": [
      "82e2028596864852b15debb75b652ce7",
      "fa058c721558488a8d91ada975195524",
      "3d0c9686fc7641f5b0f9206b5d2a5b09",
      "43d72d6bd99e4b7ab06e45aaeaf8bceb",
      "c4f3649f45d748c9b4aa87034a8fe4a9",
      "af527ca3f7b1461297fb5a8241d9c9dc",
      "47b44cd77ef64c23906479c9382f2cf1",
      "255f51710434480abdb736c3627c1051"
     ]
    },
    "id": "TLAf9ObgC59_",
    "outputId": "83e0e073-5659-4887-b49a-d9cdb9a5e294"
   },
   "outputs": [
    {
     "data": {
      "text/html": [
       "Waiting for W&B process to finish... <strong style=\"color:green\">(success).</strong>"
      ],
      "text/plain": [
       "<IPython.core.display.HTML object>"
      ]
     },
     "metadata": {},
     "output_type": "display_data"
    },
    {
     "data": {
      "application/vnd.jupyter.widget-view+json": {
       "model_id": "82e2028596864852b15debb75b652ce7",
       "version_major": 2,
       "version_minor": 0
      },
      "text/plain": [
       "VBox(children=(Label(value='0.001 MB of 0.001 MB uploaded (0.000 MB deduped)\\r'), FloatProgress(value=1.0, max…"
      ]
     },
     "metadata": {},
     "output_type": "display_data"
    },
    {
     "data": {
      "text/html": [
       "<style>\n",
       "    table.wandb td:nth-child(1) { padding: 0 10px; text-align: left ; width: auto;} td:nth-child(2) {text-align: left ; width: 100%}\n",
       "    .wandb-row { display: flex; flex-direction: row; flex-wrap: wrap; justify-content: flex-start; width: 100% }\n",
       "    .wandb-col { display: flex; flex-direction: column; flex-basis: 100%; flex: 1; padding: 10px; }\n",
       "    </style>\n",
       "<div class=\"wandb-row\"><div class=\"wandb-col\"><h3>Run history:</h3><br/><table class=\"wandb\"><tr><td>Best_test_Acc</td><td>▁</td></tr><tr><td>Train Acc :</td><td>▁█</td></tr><tr><td>Train Batch Acc :</td><td>▁▆█</td></tr><tr><td>Train Batch Loss  :</td><td>█▃▁</td></tr><tr><td>Train Loss :</td><td>█▁</td></tr><tr><td>Valid Acc :</td><td>▁█</td></tr><tr><td>Valid Loss :</td><td>█▁</td></tr><tr><td>epoch</td><td>▁▁▁▁████</td></tr></table><br/></div><div class=\"wandb-col\"><h3>Run summary:</h3><br/><table class=\"wandb\"><tr><td>Best_test_Acc</td><td>0.8884</td></tr><tr><td>Train Acc :</td><td>0.88232</td></tr><tr><td>Train Batch Acc :</td><td>0.91406</td></tr><tr><td>Train Batch Loss  :</td><td>0.24868</td></tr><tr><td>Train Loss :</td><td>0.34826</td></tr><tr><td>Valid Acc :</td><td>0.894</td></tr><tr><td>Valid Loss :</td><td>0.31312</td></tr><tr><td>epoch</td><td>1</td></tr></table><br/></div></div>"
      ],
      "text/plain": [
       "<IPython.core.display.HTML object>"
      ]
     },
     "metadata": {},
     "output_type": "display_data"
    },
    {
     "data": {
      "text/html": [
       "Synced <strong style=\"color:#cdcd00\">exp2</strong>: <a href=\"https://wandb.ai/piyushrs/VGG_HW7_Copy/runs/3t6nthg7\" target=\"_blank\">https://wandb.ai/piyushrs/VGG_HW7_Copy/runs/3t6nthg7</a><br/>Synced 5 W&B file(s), 0 media file(s), 0 artifact file(s) and 0 other file(s)"
      ],
      "text/plain": [
       "<IPython.core.display.HTML object>"
      ]
     },
     "metadata": {},
     "output_type": "display_data"
    },
    {
     "data": {
      "text/html": [
       "Find logs at: <code>./wandb/run-20221118_193823-3t6nthg7/logs</code>"
      ],
      "text/plain": [
       "<IPython.core.display.HTML object>"
      ]
     },
     "metadata": {},
     "output_type": "display_data"
    }
   ],
   "source": [
    "wandb.finish()"
   ]
  },
  {
   "cell_type": "code",
   "execution_count": null,
   "metadata": {
    "id": "_enUMoX3DM70"
   },
   "outputs": [],
   "source": [
    "# Task 3\n",
    "vgg16_task3 = torchvision.models.vgg16(pretrained=True)\n",
    "vgg16_task3.classifier[6].out_features = 10\n",
    "\n",
    "# freeze convolution weights\n",
    "for param in vgg16_task3.features[:17].parameters():\n",
    "    param.requires_grad = False"
   ]
  },
  {
   "cell_type": "code",
   "execution_count": null,
   "metadata": {
    "id": "mRjTeDEKDPVP"
   },
   "outputs": [],
   "source": [
    "hyperparameters = SimpleNamespace(\n",
    "    epochs = 2,\n",
    "    batch_size=256,\n",
    "    learning_rate=0.05,\n",
    "    dataset=\"CIFAR10\",\n",
    "    architecture=\"Pretrained-VGG\",\n",
    "    log_interval = 100,\n",
    "    log_batch = True,\n",
    "    file_model = model_folder/'pre_vgg_cifar10_task3.pt',\n",
    "    grad_clipping = True,\n",
    "    max_norm = 1,\n",
    "    patience = 5,\n",
    "    early_stopping = False,\n",
    "    weight_decay = 0,\n",
    "    save_best_model = True,\n",
    "    device = torch.device('cuda:0' if torch.cuda.is_available() else 'cpu')\n",
    "    )"
   ]
  },
  {
   "cell_type": "code",
   "execution_count": null,
   "metadata": {
    "colab": {
     "base_uri": "https://localhost:8080/",
     "height": 96
    },
    "id": "W5lg-VTsDSXA",
    "outputId": "387f6710-d288-49b3-c125-62ca9c564c59"
   },
   "outputs": [
    {
     "data": {
      "text/html": [
       "Tracking run with wandb version 0.13.5"
      ],
      "text/plain": [
       "<IPython.core.display.HTML object>"
      ]
     },
     "metadata": {},
     "output_type": "display_data"
    },
    {
     "data": {
      "text/html": [
       "Run data is saved locally in <code>/content/wandb/run-20221118_211922-3fov1kce</code>"
      ],
      "text/plain": [
       "<IPython.core.display.HTML object>"
      ]
     },
     "metadata": {},
     "output_type": "display_data"
    },
    {
     "data": {
      "text/html": [
       "Syncing run <strong><a href=\"https://wandb.ai/piyushrs/VGG_HW7_Copy/runs/3fov1kce\" target=\"_blank\">exp3</a></strong> to <a href=\"https://wandb.ai/piyushrs/VGG_HW7_Copy\" target=\"_blank\">Weights & Biases</a> (<a href=\"https://wandb.me/run\" target=\"_blank\">docs</a>)<br/>"
      ],
      "text/plain": [
       "<IPython.core.display.HTML object>"
      ]
     },
     "metadata": {},
     "output_type": "display_data"
    },
    {
     "data": {
      "text/html": [
       "<button onClick=\"this.nextSibling.style.display='block';this.style.display='none';\">Display W&B run</button><iframe src=\"https://wandb.ai/piyushrs/VGG_HW7_Copy/runs/3fov1kce?jupyter=true\" style=\"border:none;width:100%;height:420px;display:none;\"></iframe>"
      ],
      "text/plain": [
       "<wandb.sdk.wandb_run.Run at 0x7f1cde5f9690>"
      ]
     },
     "execution_count": 27,
     "metadata": {},
     "output_type": "execute_result"
    }
   ],
   "source": [
    "wandb.init(name = \"exp3\", project = 'VGG_HW7_Copy' , config = hyperparameters)"
   ]
  },
  {
   "cell_type": "code",
   "execution_count": null,
   "metadata": {
    "colab": {
     "base_uri": "https://localhost:8080/"
    },
    "id": "VPxog6PlDcD8",
    "outputId": "ca0162ac-532e-463b-f32f-00db15ba0eba"
   },
   "outputs": [
    {
     "data": {
      "text/plain": [
       "{'epochs': 2, 'batch_size': 256, 'learning_rate': 0.05, 'dataset': 'CIFAR10', 'architecture': 'Pretrained-VGG', 'log_interval': 100, 'log_batch': True, 'file_model': '/content/drive/MyDrive/Colab Notebooks/Deep Learning/Datasets/models/cifar10/pre_vgg_cifar10_task3.pt', 'grad_clipping': True, 'max_norm': 1, 'patience': 5, 'early_stopping': False, 'weight_decay': 0, 'save_best_model': True, 'device': 'cuda:0'}"
      ]
     },
     "execution_count": 28,
     "metadata": {},
     "output_type": "execute_result"
    }
   ],
   "source": [
    "wandb.config"
   ]
  },
  {
   "cell_type": "code",
   "execution_count": null,
   "metadata": {
    "colab": {
     "base_uri": "https://localhost:8080/"
    },
    "id": "6UIs05zPDc90",
    "outputId": "98a89ff0-8cea-4171-d7f0-baa9f0413539"
   },
   "outputs": [
    {
     "data": {
      "text/plain": [
       "[]"
      ]
     },
     "execution_count": 29,
     "metadata": {},
     "output_type": "execute_result"
    }
   ],
   "source": [
    "train_loader = torch.utils.data.DataLoader(trainset, batch_size=wandb.config.batch_size, shuffle = True)\n",
    "valid_loader = torch.utils.data.DataLoader(validset, batch_size=wandb.config.batch_size, shuffle = False)\n",
    "test_loader = torch.utils.data.DataLoader(testset, batch_size=wandb.config.batch_size,   shuffle = False)\n",
    "\n",
    "model = vgg16_task3\n",
    "model.to(wandb.config.device)\n",
    "# model.apply(init_weights)\n",
    "\n",
    "# loss_function\n",
    "loss_function = nn.CrossEntropyLoss()\n",
    "loss_function.to(wandb.config.device)\n",
    "# optimizer = torch.optim.Adam(model.parameters(), lr = wandb.config.learning_rate)\n",
    "optimizer = torch.optim.SGD(model.parameters(), lr =wandb.config.learning_rate, \n",
    "                            weight_decay=wandb.config.weight_decay, momentum = 0.9)\n",
    "# schedular = torch.optim.lr_scheduler.CosineAnnealingLR(optimizer, eta_min = 0.0001, T_max=10)\n",
    "wandb.watch(model)"
   ]
  },
  {
   "cell_type": "code",
   "execution_count": null,
   "metadata": {
    "colab": {
     "base_uri": "https://localhost:8080/"
    },
    "id": "YpySWq-0DfSt",
    "outputId": "0e1375f5-234e-40d8-aa3d-653a9e427dd3"
   },
   "outputs": [
    {
     "name": "stdout",
     "output_type": "stream",
     "text": [
      "Validation loss has decreased (inf --> 0.435898). Saving Model...\n",
      "Epoch : 1 / 2\n",
      "Time to complete 1 is 0:12:19.291782\n",
      "Train Loss:  0.4081 | Train Accuracy:  86.2075%\n",
      "Valid Loss:  0.4359 | Valid Accuracy:  85.1800%\n",
      "\n",
      "Validation loss has decreased (0.435898 --> 0.267120). Saving model...\n",
      "Epoch : 2 / 2\n",
      "Time to complete 2 is 0:12:19.456733\n",
      "Train Loss:  0.2838 | Train Accuracy:  90.2950%\n",
      "Valid Loss:  0.2671 | Valid Accuracy:  91.2900%\n",
      "\n"
     ]
    }
   ],
   "source": [
    "torch.cuda.empty_cache()\n",
    "batch_ct_train, batch_ct_valid = 0, 0\n",
    "train_loss_history, train_acc_history, valid_loss_history, valid_acc_history = train_loop(train_loader, \n",
    "                                                                                          valid_loader, \n",
    "                                                                                          model, \n",
    "                                                                                          optimizer, \n",
    "                                                                                          loss_function, \n",
    "                                                                                          wandb.config.epochs, \n",
    "                                                                                          wandb.config.device,\n",
    "                                                                                          wandb.config.patience,\n",
    "                                                                                          wandb.config.early_stopping,\n",
    "                                                                                          wandb.config.file_model,\n",
    "                                                                                          wandb.config.save_best_model\n",
    "                                                                                       )"
   ]
  },
  {
   "cell_type": "code",
   "execution_count": null,
   "metadata": {
    "colab": {
     "base_uri": "https://localhost:8080/"
    },
    "id": "tueUR9jVJ4BX",
    "outputId": "c45faf98-bbb3-4761-ff17-a955e8ee8344"
   },
   "outputs": [
    {
     "name": "stdout",
     "output_type": "stream",
     "text": [
      "Test accuracy tensor(90.6900, device='cuda:0')\n"
     ]
    }
   ],
   "source": [
    "# Get the prediction and accuracy for the test dataseta\n",
    "predictions_test, acc_test = get_acc_pred(test_loader, model, wandb.config.device)\n",
    "\n",
    "print('Test accuracy', acc_test * 100)\n",
    "\n",
    "wandb.log({'Best_test_Acc': acc_test})"
   ]
  },
  {
   "cell_type": "markdown",
   "metadata": {
    "id": "34w9q9LvwDw7"
   },
   "source": [
    "## Best test accuracy is from task 3"
   ]
  },
  {
   "cell_type": "code",
   "execution_count": null,
   "metadata": {
    "colab": {
     "base_uri": "https://localhost:8080/",
     "height": 449,
     "referenced_widgets": [
      "029e44dd5f5e4a60b771c569e9fe9ae4",
      "cd6aad2607ed4bfcadb40432ec9eeeef",
      "48c9ab3e812547bfa784665775285a7c",
      "c4a95eb134c045c4b72e407df86345fd",
      "1106e5183f9b49d9bc36d7e984e396aa",
      "5b22fa7f729c4de1bef0c28589978b8a",
      "4cf365648e1f472c95f8512591e6a430",
      "27bbafbe5d7f449883a3d850cc918881"
     ]
    },
    "id": "vdKYQKtBJ4FL",
    "outputId": "cb35221b-f673-4950-a92e-2de8c96ea05b"
   },
   "outputs": [
    {
     "data": {
      "text/html": [
       "Waiting for W&B process to finish... <strong style=\"color:green\">(success).</strong>"
      ],
      "text/plain": [
       "<IPython.core.display.HTML object>"
      ]
     },
     "metadata": {},
     "output_type": "display_data"
    },
    {
     "data": {
      "application/vnd.jupyter.widget-view+json": {
       "model_id": "029e44dd5f5e4a60b771c569e9fe9ae4",
       "version_major": 2,
       "version_minor": 0
      },
      "text/plain": [
       "VBox(children=(Label(value='0.001 MB of 0.001 MB uploaded (0.000 MB deduped)\\r'), FloatProgress(value=1.0, max…"
      ]
     },
     "metadata": {},
     "output_type": "display_data"
    },
    {
     "data": {
      "text/html": [
       "<style>\n",
       "    table.wandb td:nth-child(1) { padding: 0 10px; text-align: left ; width: auto;} td:nth-child(2) {text-align: left ; width: 100%}\n",
       "    .wandb-row { display: flex; flex-direction: row; flex-wrap: wrap; justify-content: flex-start; width: 100% }\n",
       "    .wandb-col { display: flex; flex-direction: column; flex-basis: 100%; flex: 1; padding: 10px; }\n",
       "    </style>\n",
       "<div class=\"wandb-row\"><div class=\"wandb-col\"><h3>Run history:</h3><br/><table class=\"wandb\"><tr><td>Best_test_Acc</td><td>▁</td></tr><tr><td>Train Acc :</td><td>▁█</td></tr><tr><td>Train Batch Acc :</td><td>▁▇█</td></tr><tr><td>Train Batch Loss  :</td><td>█▄▁</td></tr><tr><td>Train Loss :</td><td>█▁</td></tr><tr><td>Valid Acc :</td><td>▁█</td></tr><tr><td>Valid Loss :</td><td>█▁</td></tr><tr><td>epoch</td><td>▁▁▁▁████</td></tr></table><br/></div><div class=\"wandb-col\"><h3>Run summary:</h3><br/><table class=\"wandb\"><tr><td>Best_test_Acc</td><td>0.9069</td></tr><tr><td>Train Acc :</td><td>0.90295</td></tr><tr><td>Train Batch Acc :</td><td>0.92578</td></tr><tr><td>Train Batch Loss  :</td><td>0.20842</td></tr><tr><td>Train Loss :</td><td>0.28384</td></tr><tr><td>Valid Acc :</td><td>0.9129</td></tr><tr><td>Valid Loss :</td><td>0.26712</td></tr><tr><td>epoch</td><td>1</td></tr></table><br/></div></div>"
      ],
      "text/plain": [
       "<IPython.core.display.HTML object>"
      ]
     },
     "metadata": {},
     "output_type": "display_data"
    },
    {
     "data": {
      "text/html": [
       "Synced <strong style=\"color:#cdcd00\">exp3</strong>: <a href=\"https://wandb.ai/piyushrs/VGG_HW7_Copy/runs/3fov1kce\" target=\"_blank\">https://wandb.ai/piyushrs/VGG_HW7_Copy/runs/3fov1kce</a><br/>Synced 5 W&B file(s), 0 media file(s), 0 artifact file(s) and 0 other file(s)"
      ],
      "text/plain": [
       "<IPython.core.display.HTML object>"
      ]
     },
     "metadata": {},
     "output_type": "display_data"
    },
    {
     "data": {
      "text/html": [
       "Find logs at: <code>./wandb/run-20221118_211922-3fov1kce/logs</code>"
      ],
      "text/plain": [
       "<IPython.core.display.HTML object>"
      ]
     },
     "metadata": {},
     "output_type": "display_data"
    }
   ],
   "source": [
    "wandb.finish()"
   ]
  },
  {
   "cell_type": "markdown",
   "metadata": {},
   "source": [
    "**Wandb Link: https://wandb.ai/piyushrs/VGG_HW7_Copy**"
   ]
  },
  {
   "cell_type": "code",
   "execution_count": null,
   "metadata": {
    "colab": {
     "base_uri": "https://localhost:8080/",
     "height": 153,
     "referenced_widgets": [
      "ea653488c6a447aa848a99af165d980c",
      "0b554b5b79524a449d9adb07609ebf95",
      "6ba9fe4d96694d108c7e0cbba1cc4ed9",
      "09c619c168d54becad4c9eb670df6c6b",
      "813aa89fb20f4052ade8d944fc49177b",
      "d289e39031a549ae9646a7a32862159c",
      "7cb82e444dac4eecaaf2bfff3a28d80a",
      "eaf2e05f2c5945ecbb144b614fde22d8",
      "1b03604f3d8947538864c9c717e66148",
      "8ddc1b2cf5cf433c802e1bfa10ed7398",
      "901447b5c02d45bab8e02c74e3422260"
     ]
    },
    "id": "Ww3sOfhqOpPD",
    "outputId": "a61ec8d7-aac4-4a8e-f685-90eb224e2e41"
   },
   "outputs": [
    {
     "name": "stderr",
     "output_type": "stream",
     "text": [
      "/usr/local/lib/python3.7/dist-packages/torchvision/models/_utils.py:209: UserWarning: The parameter 'pretrained' is deprecated since 0.13 and will be removed in 0.15, please use 'weights' instead.\n",
      "  f\"The parameter '{pretrained_param}' is deprecated since 0.13 and will be removed in 0.15, \"\n",
      "/usr/local/lib/python3.7/dist-packages/torchvision/models/_utils.py:223: UserWarning: Arguments other than a weight enum or `None` for 'weights' are deprecated since 0.13 and will be removed in 0.15. The current behavior is equivalent to passing `weights=ResNet34_Weights.IMAGENET1K_V1`. You can also use `weights=ResNet34_Weights.DEFAULT` to get the most up-to-date weights.\n",
      "  warnings.warn(msg)\n",
      "Downloading: \"https://download.pytorch.org/models/resnet34-b627a593.pth\" to /root/.cache/torch/hub/checkpoints/resnet34-b627a593.pth\n"
     ]
    },
    {
     "data": {
      "application/vnd.jupyter.widget-view+json": {
       "model_id": "ea653488c6a447aa848a99af165d980c",
       "version_major": 2,
       "version_minor": 0
      },
      "text/plain": [
       "  0%|          | 0.00/83.3M [00:00<?, ?B/s]"
      ]
     },
     "metadata": {},
     "output_type": "display_data"
    },
    {
     "data": {
      "text/plain": [
       "21797672"
      ]
     },
     "execution_count": 18,
     "metadata": {},
     "output_type": "execute_result"
    }
   ],
   "source": [
    "resnet = torchvision.models.resnet34(pretrained = True)\n",
    "resnet.fc.out_features = 10\n",
    "count_parameters(resnet)"
   ]
  },
  {
   "cell_type": "code",
   "execution_count": null,
   "metadata": {
    "colab": {
     "base_uri": "https://localhost:8080/"
    },
    "id": "tNfkRSUnup-C",
    "outputId": "df4dedc1-3f27-4da1-b8dd-befdbc63a3ae"
   },
   "outputs": [
    {
     "data": {
      "text/plain": [
       "522536"
      ]
     },
     "execution_count": 59,
     "metadata": {},
     "output_type": "execute_result"
    }
   ],
   "source": [
    "for i in resnet.layer1.parameters():\n",
    "    i.requires_grad = False\n",
    "for i in resnet.layer2.parameters():\n",
    "    i.requires_grad = False\n",
    "for i in resnet.layer3.parameters():\n",
    "    i.requires_grad = False\n",
    "for i in resnet.layer4.parameters():\n",
    "    i.requires_grad = False\n",
    "count_parameters(resnet)"
   ]
  },
  {
   "cell_type": "code",
   "execution_count": null,
   "metadata": {
    "id": "5uHpAOsftzO_"
   },
   "outputs": [],
   "source": [
    "hyperparameters = SimpleNamespace(\n",
    "    epochs = 5,\n",
    "    batch_size=256,\n",
    "    learning_rate=0.1,\n",
    "    dataset=\"CIFAR10\",\n",
    "    architecture=\"Pretrained-Resnet\",\n",
    "    log_interval = 100,\n",
    "    log_batch = True,\n",
    "    file_model = model_folder/'pre_vgg_cifar10.pt',\n",
    "    grad_clipping = True,\n",
    "    max_norm = 1,\n",
    "    patience = 5,\n",
    "    early_stopping = False,\n",
    "    weight_decay = 0,\n",
    "    save_best_model = True,\n",
    "    device = torch.device('cuda:0' if torch.cuda.is_available() else 'cpu')\n",
    "    )"
   ]
  },
  {
   "cell_type": "code",
   "execution_count": null,
   "metadata": {
    "colab": {
     "base_uri": "https://localhost:8080/",
     "height": 96
    },
    "id": "13GgvaZ1pCd3",
    "outputId": "55666421-6f19-48e2-cf6c-79918628f539"
   },
   "outputs": [
    {
     "data": {
      "text/html": [
       "Tracking run with wandb version 0.13.5"
      ],
      "text/plain": [
       "<IPython.core.display.HTML object>"
      ]
     },
     "metadata": {},
     "output_type": "display_data"
    },
    {
     "data": {
      "text/html": [
       "Run data is saved locally in <code>/content/wandb/run-20221116_232241-2i2xworm</code>"
      ],
      "text/plain": [
       "<IPython.core.display.HTML object>"
      ]
     },
     "metadata": {},
     "output_type": "display_data"
    },
    {
     "data": {
      "text/html": [
       "Syncing run <strong><a href=\"https://wandb.ai/piyushrs/Resnet_HW7/runs/2i2xworm\" target=\"_blank\">exp1</a></strong> to <a href=\"https://wandb.ai/piyushrs/Resnet_HW7\" target=\"_blank\">Weights & Biases</a> (<a href=\"https://wandb.me/run\" target=\"_blank\">docs</a>)<br/>"
      ],
      "text/plain": [
       "<IPython.core.display.HTML object>"
      ]
     },
     "metadata": {},
     "output_type": "display_data"
    },
    {
     "data": {
      "text/html": [
       "<button onClick=\"this.nextSibling.style.display='block';this.style.display='none';\">Display W&B run</button><iframe src=\"https://wandb.ai/piyushrs/Resnet_HW7/runs/2i2xworm?jupyter=true\" style=\"border:none;width:100%;height:420px;display:none;\"></iframe>"
      ],
      "text/plain": [
       "<wandb.sdk.wandb_run.Run at 0x7f5fb05c2c10>"
      ]
     },
     "execution_count": 61,
     "metadata": {},
     "output_type": "execute_result"
    }
   ],
   "source": [
    "wandb.init(name = \"exp1\", project = 'Resnet_HW7' , config = hyperparameters)"
   ]
  },
  {
   "cell_type": "code",
   "execution_count": null,
   "metadata": {
    "colab": {
     "base_uri": "https://localhost:8080/"
    },
    "id": "EaoXA0KtpEvL",
    "outputId": "85a62267-798c-425a-b714-92ecd1c8f8a0"
   },
   "outputs": [
    {
     "data": {
      "text/plain": [
       "[]"
      ]
     },
     "execution_count": 62,
     "metadata": {},
     "output_type": "execute_result"
    }
   ],
   "source": [
    "train_loader = torch.utils.data.DataLoader(trainset, batch_size=wandb.config.batch_size, shuffle = True)\n",
    "valid_loader = torch.utils.data.DataLoader(validset, batch_size=wandb.config.batch_size, shuffle = False)\n",
    "test_loader = torch.utils.data.DataLoader(testset, batch_size=wandb.config.batch_size,   shuffle = False)\n",
    "\n",
    "model = resnet\n",
    "model.to(wandb.config.device)\n",
    "# model.apply(init_weights)\n",
    "\n",
    "# loss_function\n",
    "loss_function = nn.CrossEntropyLoss()\n",
    "loss_function.to(wandb.config.device)\n",
    "# optimizer = torch.optim.Adam(model.parameters(), lr = wandb.config.learning_rate)\n",
    "optimizer = torch.optim.SGD(model.parameters(), lr =wandb.config.learning_rate, \n",
    "                            weight_decay=wandb.config.weight_decay, momentum = 0.9)\n",
    "\n",
    "scheduler = torch.optim.lr_scheduler.CosineAnnealingLR(optimizer, T_max = 10, eta_min = 0.01)\n",
    "wandb.watch(model)"
   ]
  },
  {
   "cell_type": "code",
   "execution_count": null,
   "metadata": {
    "colab": {
     "base_uri": "https://localhost:8080/"
    },
    "id": "kzGwmBxgpGm-",
    "outputId": "8eee935c-bf79-494e-96bf-b36452134a7c"
   },
   "outputs": [
    {
     "name": "stdout",
     "output_type": "stream",
     "text": [
      "Validation loss has decreased (inf --> 0.944730). Saving Model...\n",
      "Epoch : 1 / 5\n",
      "Time to complete 1 is 0:05:23.497324\n",
      "Train Loss:  1.3987 | Train Accuracy:  60.5975%\n",
      "Valid Loss:  0.9447 | Valid Accuracy:  69.0700%\n",
      "\n",
      "Validation loss has decreased (0.944730 --> 0.859663). Saving model...\n",
      "Epoch : 2 / 5\n",
      "Time to complete 2 is 0:05:27.801040\n",
      "Train Loss:  0.7615 | Train Accuracy:  74.7875%\n",
      "Valid Loss:  0.8597 | Valid Accuracy:  71.7000%\n",
      "\n",
      "Validation loss has not decreased (0.859663 --> 0.914757). Not Saving Model...\n",
      "Epoch : 3 / 5\n",
      "Time to complete 3 is 0:05:25.501295\n",
      "Train Loss:  0.7215 | Train Accuracy:  76.2900%\n",
      "Valid Loss:  0.9148 | Valid Accuracy:  71.6500%\n",
      "\n",
      "Validation loss has not decreased (0.859663 --> 1.153191). Not Saving Model...\n",
      "Epoch : 4 / 5\n",
      "Time to complete 4 is 0:05:25.161420\n",
      "Train Loss:  0.6627 | Train Accuracy:  78.3000%\n",
      "Valid Loss:  1.1532 | Valid Accuracy:  67.6200%\n",
      "\n",
      "Validation loss has decreased (0.859663 --> 0.822112). Saving model...\n",
      "Epoch : 5 / 5\n",
      "Time to complete 5 is 0:05:25.561839\n",
      "Train Loss:  0.6310 | Train Accuracy:  79.5600%\n",
      "Valid Loss:  0.8221 | Valid Accuracy:  74.9100%\n",
      "\n"
     ]
    }
   ],
   "source": [
    "batch_ct_train, batch_ct_valid = 0, 0\n",
    "train_loss_history, train_acc_history, valid_loss_history, valid_acc_history = train_loop(train_loader, \n",
    "                                                                                          valid_loader, \n",
    "                                                                                          model, \n",
    "                                                                                          optimizer, \n",
    "                                                                                          loss_function, \n",
    "                                                                                          wandb.config.epochs, \n",
    "                                                                                          wandb.config.device,\n",
    "                                                                                          wandb.config.patience,\n",
    "                                                                                          wandb.config.early_stopping,\n",
    "                                                                                          wandb.config.file_model,\n",
    "                                                                                          wandb.config.save_best_model\n",
    "                                                                                       )"
   ]
  },
  {
   "cell_type": "code",
   "execution_count": null,
   "metadata": {
    "colab": {
     "base_uri": "https://localhost:8080/",
     "height": 650,
     "referenced_widgets": [
      "b365c0181d6b4696a516759e9298310d",
      "14be8eee48f64a37a31f3c2076ecce3f",
      "a5663e404d3a4d15986659be5310d4ef",
      "a5f71045151c4a249ea9c0171d82456c",
      "656e492a20ac47579f47cf9b28ba7678",
      "8461b2724fbe4c848746932c99811161",
      "0754665e67284da2833910ded5179899",
      "8c1b68e28fcb4ca48e939fb9a7965b5d"
     ]
    },
    "id": "fegwSl0bx7sa",
    "outputId": "950d2147-ab46-43e8-9757-49f4032c894a"
   },
   "outputs": [
    {
     "data": {
      "text/html": [
       "Waiting for W&B process to finish... <strong style=\"color:green\">(success).</strong>"
      ],
      "text/plain": [
       "<IPython.core.display.HTML object>"
      ]
     },
     "metadata": {},
     "output_type": "display_data"
    },
    {
     "data": {
      "application/vnd.jupyter.widget-view+json": {
       "model_id": "b365c0181d6b4696a516759e9298310d",
       "version_major": 2,
       "version_minor": 0
      },
      "text/plain": [
       "VBox(children=(Label(value='0.001 MB of 0.010 MB uploaded (0.000 MB deduped)\\r'), FloatProgress(value=0.072722…"
      ]
     },
     "metadata": {},
     "output_type": "display_data"
    },
    {
     "data": {
      "text/html": [
       "<style>\n",
       "    table.wandb td:nth-child(1) { padding: 0 10px; text-align: left ; width: auto;} td:nth-child(2) {text-align: left ; width: 100%}\n",
       "    .wandb-row { display: flex; flex-direction: row; flex-wrap: wrap; justify-content: flex-start; width: 100% }\n",
       "    .wandb-col { display: flex; flex-direction: column; flex-basis: 100%; flex: 1; padding: 10px; }\n",
       "    </style>\n",
       "<div class=\"wandb-row\"><div class=\"wandb-col\"><h3>Run history:</h3><br/><table class=\"wandb\"><tr><td>Train Acc :</td><td>▁▆▇██</td></tr><tr><td>Train Batch Acc :</td><td>▁▄▅▂▅▂█</td></tr><tr><td>Train Batch Loss  :</td><td>▅▄▃█▂█▁</td></tr><tr><td>Train Loss :</td><td>█▂▂▁▁</td></tr><tr><td>Valid Acc :</td><td>▂▅▅▁█</td></tr><tr><td>Valid Batch Accuracy :</td><td>█▁</td></tr><tr><td>Valid Batch Loss  :</td><td>▁█</td></tr><tr><td>Valid Loss :</td><td>▄▂▃█▁</td></tr><tr><td>epoch</td><td>▁▁▁▁▃▃▃▃▅▅▅▅▆▆▆▆████</td></tr></table><br/></div><div class=\"wandb-col\"><h3>Run summary:</h3><br/><table class=\"wandb\"><tr><td>Train Acc :</td><td>0.7956</td></tr><tr><td>Train Batch Acc :</td><td>0.84766</td></tr><tr><td>Train Batch Loss  :</td><td>0.53838</td></tr><tr><td>Train Loss :</td><td>0.63096</td></tr><tr><td>Valid Acc :</td><td>0.7491</td></tr><tr><td>Valid Batch Accuracy :</td><td>0.69531</td></tr><tr><td>Valid Batch Loss  :</td><td>0.99346</td></tr><tr><td>Valid Loss :</td><td>0.82211</td></tr><tr><td>epoch</td><td>4</td></tr></table><br/></div></div>"
      ],
      "text/plain": [
       "<IPython.core.display.HTML object>"
      ]
     },
     "metadata": {},
     "output_type": "display_data"
    },
    {
     "data": {
      "text/html": [
       "Synced <strong style=\"color:#cdcd00\">exp1</strong>: <a href=\"https://wandb.ai/piyushrs/Resnet_HW7/runs/2i2xworm\" target=\"_blank\">https://wandb.ai/piyushrs/Resnet_HW7/runs/2i2xworm</a><br/>Synced 5 W&B file(s), 0 media file(s), 0 artifact file(s) and 0 other file(s)"
      ],
      "text/plain": [
       "<IPython.core.display.HTML object>"
      ]
     },
     "metadata": {},
     "output_type": "display_data"
    },
    {
     "data": {
      "text/html": [
       "Find logs at: <code>./wandb/run-20221116_232241-2i2xworm/logs</code>"
      ],
      "text/plain": [
       "<IPython.core.display.HTML object>"
      ]
     },
     "metadata": {},
     "output_type": "display_data"
    }
   ],
   "source": [
    "wandb.finish()"
   ]
  },
  {
   "cell_type": "code",
   "execution_count": null,
   "metadata": {
    "colab": {
     "base_uri": "https://localhost:8080/"
    },
    "id": "-QOIi8zY3H4I",
    "outputId": "7dd64457-dd54-4ed6-8660-ccb39b082149"
   },
   "outputs": [
    {
     "data": {
      "text/plain": [
       "13636904"
      ]
     },
     "execution_count": 52,
     "metadata": {},
     "output_type": "execute_result"
    }
   ],
   "source": [
    "resnet = torchvision.models.resnet34(pretrained = True)\n",
    "resnet.fc.out_features = 10\n",
    "for i in resnet.layer1.parameters():\n",
    "    i.requires_grad = False\n",
    "for i in resnet.layer2.parameters():\n",
    "    i.requires_grad = False\n",
    "for i in resnet.layer3.parameters():\n",
    "    i.requires_grad = False\n",
    "count_parameters(resnet)"
   ]
  },
  {
   "cell_type": "code",
   "execution_count": null,
   "metadata": {
    "id": "jg2TjKVQ3NZX"
   },
   "outputs": [],
   "source": [
    "hyperparameters = SimpleNamespace(\n",
    "    epochs = 5,\n",
    "    batch_size=256,\n",
    "    learning_rate=0.1,\n",
    "    dataset=\"CIFAR10\",\n",
    "    architecture=\"Pretrained-Resnet\",\n",
    "    log_interval = 100,\n",
    "    log_batch = True,\n",
    "    file_model = model_folder/'pre_vgg_cifar10.pt',\n",
    "    grad_clipping = True,\n",
    "    max_norm = 1,\n",
    "    patience = 5,\n",
    "    early_stopping = False,\n",
    "    weight_decay = 0,\n",
    "    save_best_model = True,\n",
    "    device = torch.device('cuda:0' if torch.cuda.is_available() else 'cpu')\n",
    "    )"
   ]
  },
  {
   "cell_type": "code",
   "execution_count": null,
   "metadata": {
    "colab": {
     "base_uri": "https://localhost:8080/",
     "height": 113
    },
    "id": "b63StImT3Pr9",
    "outputId": "73d86617-33d5-4294-cb02-1b96c7071abe"
   },
   "outputs": [
    {
     "name": "stderr",
     "output_type": "stream",
     "text": [
      "\u001b[34m\u001b[1mwandb\u001b[0m: Currently logged in as: \u001b[33mpiyushrs\u001b[0m. Use \u001b[1m`wandb login --relogin`\u001b[0m to force relogin\n"
     ]
    },
    {
     "data": {
      "text/html": [
       "Tracking run with wandb version 0.13.5"
      ],
      "text/plain": [
       "<IPython.core.display.HTML object>"
      ]
     },
     "metadata": {},
     "output_type": "display_data"
    },
    {
     "data": {
      "text/html": [
       "Run data is saved locally in <code>/content/wandb/run-20221118_062054-1wq1nv90</code>"
      ],
      "text/plain": [
       "<IPython.core.display.HTML object>"
      ]
     },
     "metadata": {},
     "output_type": "display_data"
    },
    {
     "data": {
      "text/html": [
       "Syncing run <strong><a href=\"https://wandb.ai/piyushrs/Resnet_HW7/runs/1wq1nv90\" target=\"_blank\">exp2</a></strong> to <a href=\"https://wandb.ai/piyushrs/Resnet_HW7\" target=\"_blank\">Weights & Biases</a> (<a href=\"https://wandb.me/run\" target=\"_blank\">docs</a>)<br/>"
      ],
      "text/plain": [
       "<IPython.core.display.HTML object>"
      ]
     },
     "metadata": {},
     "output_type": "display_data"
    },
    {
     "data": {
      "text/html": [
       "<button onClick=\"this.nextSibling.style.display='block';this.style.display='none';\">Display W&B run</button><iframe src=\"https://wandb.ai/piyushrs/Resnet_HW7/runs/1wq1nv90?jupyter=true\" style=\"border:none;width:100%;height:420px;display:none;\"></iframe>"
      ],
      "text/plain": [
       "<wandb.sdk.wandb_run.Run at 0x7f2202059610>"
      ]
     },
     "execution_count": 21,
     "metadata": {},
     "output_type": "execute_result"
    }
   ],
   "source": [
    "wandb.init(name = \"exp2\", project = 'Resnet_HW7' , config = hyperparameters)"
   ]
  },
  {
   "cell_type": "code",
   "execution_count": null,
   "metadata": {
    "colab": {
     "base_uri": "https://localhost:8080/"
    },
    "id": "7o6VymYc3Sel",
    "outputId": "0c49cf91-3859-4f8c-d587-09a21cd8bc37"
   },
   "outputs": [
    {
     "data": {
      "text/plain": [
       "[]"
      ]
     },
     "execution_count": 22,
     "metadata": {},
     "output_type": "execute_result"
    }
   ],
   "source": [
    "train_loader = torch.utils.data.DataLoader(trainset, batch_size=wandb.config.batch_size, shuffle = True)\n",
    "valid_loader = torch.utils.data.DataLoader(validset, batch_size=wandb.config.batch_size, shuffle = False)\n",
    "test_loader = torch.utils.data.DataLoader(testset, batch_size=wandb.config.batch_size,   shuffle = False)\n",
    "\n",
    "model = resnet\n",
    "model.to(wandb.config.device)\n",
    "# model.apply(init_weights)\n",
    "\n",
    "# loss_function\n",
    "loss_function = nn.CrossEntropyLoss()\n",
    "loss_function.to(wandb.config.device)\n",
    "# optimizer = torch.optim.Adam(model.parameters(), lr = wandb.config.learning_rate)\n",
    "optimizer = torch.optim.SGD(model.parameters(), lr =wandb.config.learning_rate, \n",
    "                            weight_decay=wandb.config.weight_decay, momentum = 0.9)\n",
    "\n",
    "scheduler = torch.optim.lr_scheduler.CosineAnnealingLR(optimizer, T_max = 10, eta_min = 0.01)\n",
    "wandb.watch(model)"
   ]
  },
  {
   "cell_type": "code",
   "execution_count": null,
   "metadata": {
    "colab": {
     "base_uri": "https://localhost:8080/"
    },
    "id": "yXI3EDSX3Ulx",
    "outputId": "c8c28660-10d1-4c9f-8e6e-5c11050ecc16"
   },
   "outputs": [
    {
     "name": "stdout",
     "output_type": "stream",
     "text": [
      "Validation loss has decreased (inf --> 0.553969). Saving Model...\n",
      "Epoch : 1 / 5\n",
      "Time to complete 1 is 0:05:19.222575\n",
      "Train Loss:  0.8892 | Train Accuracy:  77.3200%\n",
      "Valid Loss:  0.5540 | Valid Accuracy:  80.6100%\n",
      "\n",
      "Validation loss has decreased (0.553969 --> 0.345280). Saving model...\n",
      "Epoch : 2 / 5\n",
      "Time to complete 2 is 0:05:14.241381\n",
      "Train Loss:  0.3412 | Train Accuracy:  88.5600%\n",
      "Valid Loss:  0.3453 | Valid Accuracy:  88.2700%\n",
      "\n",
      "Validation loss has not decreased (0.345280 --> 0.349029). Not Saving Model...\n",
      "Epoch : 3 / 5\n",
      "Time to complete 3 is 0:05:12.670823\n",
      "Train Loss:  0.2528 | Train Accuracy:  91.3500%\n",
      "Valid Loss:  0.3490 | Valid Accuracy:  89.0700%\n",
      "\n",
      "Validation loss has not decreased (0.345280 --> 0.389586). Not Saving Model...\n",
      "Epoch : 4 / 5\n",
      "Time to complete 4 is 0:05:13.121605\n",
      "Train Loss:  0.2004 | Train Accuracy:  93.2075%\n",
      "Valid Loss:  0.3896 | Valid Accuracy:  87.9600%\n",
      "\n",
      "Validation loss has not decreased (0.345280 --> 0.358907). Not Saving Model...\n",
      "Epoch : 5 / 5\n",
      "Time to complete 5 is 0:05:11.859443\n",
      "Train Loss:  0.1594 | Train Accuracy:  94.5600%\n",
      "Valid Loss:  0.3589 | Valid Accuracy:  88.9900%\n",
      "\n"
     ]
    }
   ],
   "source": [
    "torch.cuda.empty_cache()\n",
    "batch_ct_train, batch_ct_valid = 0, 0\n",
    "train_loss_history, train_acc_history, valid_loss_history, valid_acc_history = train_loop(train_loader, \n",
    "                                                                                          valid_loader, \n",
    "                                                                                          model, \n",
    "                                                                                          optimizer, \n",
    "                                                                                          loss_function, \n",
    "                                                                                          wandb.config.epochs, \n",
    "                                                                                          wandb.config.device,\n",
    "                                                                                          wandb.config.patience,\n",
    "                                                                                          wandb.config.early_stopping,\n",
    "                                                                                          wandb.config.file_model,\n",
    "                                                                                          wandb.config.save_best_model\n",
    "                                                                                       )"
   ]
  },
  {
   "cell_type": "code",
   "execution_count": null,
   "metadata": {
    "colab": {
     "base_uri": "https://localhost:8080/",
     "height": 650,
     "referenced_widgets": [
      "3c8607eac85b48e998a95d400847b421",
      "a6bce1356e8b492f965331c4924a1352",
      "6ed395307c114f828dcfc1e96bb3b759",
      "985d7af2a751462a8cb411606cc91992",
      "6d91db211a6d41c688960217636810ae",
      "bcb118be6d9c4fd199eb509e5a2716c1",
      "ec68080120104ef998edcb77848591c6",
      "a79a36501e0a47048bb63893f39b5068"
     ]
    },
    "id": "t7BzWYId3l20",
    "outputId": "5a864dfd-404c-4732-b59f-145dc794bc4e"
   },
   "outputs": [
    {
     "data": {
      "text/html": [
       "Waiting for W&B process to finish... <strong style=\"color:green\">(success).</strong>"
      ],
      "text/plain": [
       "<IPython.core.display.HTML object>"
      ]
     },
     "metadata": {},
     "output_type": "display_data"
    },
    {
     "data": {
      "application/vnd.jupyter.widget-view+json": {
       "model_id": "3c8607eac85b48e998a95d400847b421",
       "version_major": 2,
       "version_minor": 0
      },
      "text/plain": [
       "VBox(children=(Label(value='0.001 MB of 0.001 MB uploaded (0.000 MB deduped)\\r'), FloatProgress(value=1.0, max…"
      ]
     },
     "metadata": {},
     "output_type": "display_data"
    },
    {
     "data": {
      "text/html": [
       "<style>\n",
       "    table.wandb td:nth-child(1) { padding: 0 10px; text-align: left ; width: auto;} td:nth-child(2) {text-align: left ; width: 100%}\n",
       "    .wandb-row { display: flex; flex-direction: row; flex-wrap: wrap; justify-content: flex-start; width: 100% }\n",
       "    .wandb-col { display: flex; flex-direction: column; flex-basis: 100%; flex: 1; padding: 10px; }\n",
       "    </style>\n",
       "<div class=\"wandb-row\"><div class=\"wandb-col\"><h3>Run history:</h3><br/><table class=\"wandb\"><tr><td>Train Acc :</td><td>▁▆▇▇█</td></tr><tr><td>Train Batch Acc :</td><td>▁▅▅▇██▇</td></tr><tr><td>Train Batch Loss  :</td><td>█▄▄▂▁▂▁</td></tr><tr><td>Train Loss :</td><td>█▃▂▁▁</td></tr><tr><td>Valid Acc :</td><td>▁▇█▇█</td></tr><tr><td>Valid Batch Accuracy :</td><td>█▁</td></tr><tr><td>Valid Batch Loss  :</td><td>▁█</td></tr><tr><td>Valid Loss :</td><td>█▁▁▂▁</td></tr><tr><td>epoch</td><td>▁▁▁▁▃▃▃▃▅▅▅▅▆▆▆▆████</td></tr></table><br/></div><div class=\"wandb-col\"><h3>Run summary:</h3><br/><table class=\"wandb\"><tr><td>Train Acc :</td><td>0.9456</td></tr><tr><td>Train Batch Acc :</td><td>0.92969</td></tr><tr><td>Train Batch Loss  :</td><td>0.16713</td></tr><tr><td>Train Loss :</td><td>0.1594</td></tr><tr><td>Valid Acc :</td><td>0.8899</td></tr><tr><td>Valid Batch Accuracy :</td><td>0.87891</td></tr><tr><td>Valid Batch Loss  :</td><td>0.3918</td></tr><tr><td>Valid Loss :</td><td>0.35891</td></tr><tr><td>epoch</td><td>4</td></tr></table><br/></div></div>"
      ],
      "text/plain": [
       "<IPython.core.display.HTML object>"
      ]
     },
     "metadata": {},
     "output_type": "display_data"
    },
    {
     "data": {
      "text/html": [
       "Synced <strong style=\"color:#cdcd00\">exp2</strong>: <a href=\"https://wandb.ai/piyushrs/Resnet_HW7/runs/1wq1nv90\" target=\"_blank\">https://wandb.ai/piyushrs/Resnet_HW7/runs/1wq1nv90</a><br/>Synced 5 W&B file(s), 0 media file(s), 0 artifact file(s) and 0 other file(s)"
      ],
      "text/plain": [
       "<IPython.core.display.HTML object>"
      ]
     },
     "metadata": {},
     "output_type": "display_data"
    },
    {
     "data": {
      "text/html": [
       "Find logs at: <code>./wandb/run-20221118_062054-1wq1nv90/logs</code>"
      ],
      "text/plain": [
       "<IPython.core.display.HTML object>"
      ]
     },
     "metadata": {},
     "output_type": "display_data"
    }
   ],
   "source": [
    "wandb.finish()"
   ]
  },
  {
   "cell_type": "code",
   "execution_count": null,
   "metadata": {
    "colab": {
     "base_uri": "https://localhost:8080/"
    },
    "id": "e4E5RFUYf7dT",
    "outputId": "4b7d3ad4-0618-49ac-e29d-4f63636dbc57"
   },
   "outputs": [
    {
     "data": {
      "text/plain": [
       "20459304"
      ]
     },
     "execution_count": 19,
     "metadata": {},
     "output_type": "execute_result"
    }
   ],
   "source": [
    "resnet = torchvision.models.resnet34(pretrained = True)\n",
    "resnet.fc.out_features = 10\n",
    "for i in resnet.layer1.parameters():\n",
    "    i.requires_grad = False\n",
    "for i in resnet.layer2.parameters():\n",
    "    i.requires_grad = False\n",
    "count_parameters(resnet)"
   ]
  },
  {
   "cell_type": "code",
   "execution_count": null,
   "metadata": {
    "id": "R17JhgtKf_rd"
   },
   "outputs": [],
   "source": [
    "hyperparameters = SimpleNamespace(\n",
    "    epochs = 5,\n",
    "    batch_size=256,\n",
    "    learning_rate=0.01,\n",
    "    dataset=\"CIFAR10\",\n",
    "    architecture=\"Pretrained-Resnet\",\n",
    "    log_interval = 100,\n",
    "    log_batch = True,\n",
    "    file_model = model_folder/'pre_vgg_cifar10.pt',\n",
    "    grad_clipping = True,\n",
    "    max_norm = 1,\n",
    "    patience = 5,\n",
    "    early_stopping = False,\n",
    "    weight_decay = 0,\n",
    "    save_best_model = True,\n",
    "    device = torch.device('cuda:0' if torch.cuda.is_available() else 'cpu')\n",
    "    )"
   ]
  },
  {
   "cell_type": "code",
   "execution_count": null,
   "metadata": {
    "colab": {
     "base_uri": "https://localhost:8080/",
     "height": 96
    },
    "id": "w8PtLhBZgDy_",
    "outputId": "068b5a07-d370-4e53-b702-eb184f66e308"
   },
   "outputs": [
    {
     "data": {
      "text/html": [
       "Tracking run with wandb version 0.13.5"
      ],
      "text/plain": [
       "<IPython.core.display.HTML object>"
      ]
     },
     "metadata": {},
     "output_type": "display_data"
    },
    {
     "data": {
      "text/html": [
       "Run data is saved locally in <code>/content/wandb/run-20221118_092720-1m0ke79d</code>"
      ],
      "text/plain": [
       "<IPython.core.display.HTML object>"
      ]
     },
     "metadata": {},
     "output_type": "display_data"
    },
    {
     "data": {
      "text/html": [
       "Syncing run <strong><a href=\"https://wandb.ai/piyushrs/Resnet_HW7/runs/1m0ke79d\" target=\"_blank\">exp4</a></strong> to <a href=\"https://wandb.ai/piyushrs/Resnet_HW7\" target=\"_blank\">Weights & Biases</a> (<a href=\"https://wandb.me/run\" target=\"_blank\">docs</a>)<br/>"
      ],
      "text/plain": [
       "<IPython.core.display.HTML object>"
      ]
     },
     "metadata": {},
     "output_type": "display_data"
    },
    {
     "data": {
      "text/html": [
       "<button onClick=\"this.nextSibling.style.display='block';this.style.display='none';\">Display W&B run</button><iframe src=\"https://wandb.ai/piyushrs/Resnet_HW7/runs/1m0ke79d?jupyter=true\" style=\"border:none;width:100%;height:420px;display:none;\"></iframe>"
      ],
      "text/plain": [
       "<wandb.sdk.wandb_run.Run at 0x7f247cbe28d0>"
      ]
     },
     "execution_count": 25,
     "metadata": {},
     "output_type": "execute_result"
    }
   ],
   "source": [
    "wandb.init(name = \"exp4\", project = 'Resnet_HW7' , config = hyperparameters)"
   ]
  },
  {
   "cell_type": "code",
   "execution_count": null,
   "metadata": {
    "colab": {
     "base_uri": "https://localhost:8080/"
    },
    "id": "u7bx7hgOgMhw",
    "outputId": "30f2b7f2-f58c-4d4c-8b96-3d59aab363a6"
   },
   "outputs": [
    {
     "data": {
      "text/plain": [
       "[]"
      ]
     },
     "execution_count": 26,
     "metadata": {},
     "output_type": "execute_result"
    }
   ],
   "source": [
    "train_loader = torch.utils.data.DataLoader(trainset, batch_size=wandb.config.batch_size, shuffle = True)\n",
    "valid_loader = torch.utils.data.DataLoader(validset, batch_size=wandb.config.batch_size, shuffle = False)\n",
    "test_loader = torch.utils.data.DataLoader(testset, batch_size=wandb.config.batch_size,   shuffle = False)\n",
    "\n",
    "model = resnet\n",
    "model.to(wandb.config.device)\n",
    "# model.apply(init_weights)\n",
    "\n",
    "# loss_function\n",
    "loss_function = nn.CrossEntropyLoss()\n",
    "loss_function.to(wandb.config.device)\n",
    "# optimizer = torch.optim.Adam(model.parameters(), lr = wandb.config.learning_rate)\n",
    "optimizer = torch.optim.SGD(model.parameters(), lr =wandb.config.learning_rate, \n",
    "                            weight_decay=wandb.config.weight_decay, momentum = 0.9)\n",
    "\n",
    "scheduler = torch.optim.lr_scheduler.CosineAnnealingLR(optimizer, T_max = 5, eta_min = 0.001)\n",
    "wandb.watch(model)"
   ]
  },
  {
   "cell_type": "code",
   "execution_count": null,
   "metadata": {
    "colab": {
     "base_uri": "https://localhost:8080/"
    },
    "id": "AUmx1d-ngOHv",
    "outputId": "9988583f-c176-4be5-aa7f-1912e49f3384"
   },
   "outputs": [
    {
     "name": "stdout",
     "output_type": "stream",
     "text": [
      "Validation loss has decreased (inf --> 0.355662). Saving Model...\n",
      "Epoch : 1 / 5\n",
      "Time to complete 1 is 0:05:51.019145\n",
      "Train Loss:  1.8006 | Train Accuracy:  65.0075%\n",
      "Valid Loss:  0.3557 | Valid Accuracy:  87.8100%\n",
      "\n",
      "Validation loss has decreased (0.355662 --> 0.252315). Saving model...\n",
      "Epoch : 2 / 5\n",
      "Time to complete 2 is 0:05:43.938371\n",
      "Train Loss:  0.2547 | Train Accuracy:  91.5775%\n",
      "Valid Loss:  0.2523 | Valid Accuracy:  91.0000%\n",
      "\n",
      "Validation loss has decreased (0.252315 --> 0.186996). Saving model...\n",
      "Epoch : 3 / 5\n",
      "Time to complete 3 is 0:05:44.897572\n",
      "Train Loss:  0.1578 | Train Accuracy:  94.7550%\n",
      "Valid Loss:  0.1870 | Valid Accuracy:  93.6000%\n",
      "\n",
      "Validation loss has decreased (0.186996 --> 0.171614). Saving model...\n",
      "Epoch : 4 / 5\n",
      "Time to complete 4 is 0:05:44.071149\n",
      "Train Loss:  0.0998 | Train Accuracy:  96.6750%\n",
      "Valid Loss:  0.1716 | Valid Accuracy:  94.2100%\n",
      "\n",
      "Validation loss has decreased (0.171614 --> 0.165217). Saving model...\n",
      "Epoch : 5 / 5\n",
      "Time to complete 5 is 0:05:44.903250\n",
      "Train Loss:  0.0672 | Train Accuracy:  97.7700%\n",
      "Valid Loss:  0.1652 | Valid Accuracy:  94.6500%\n",
      "\n"
     ]
    }
   ],
   "source": [
    "torch.cuda.empty_cache()\n",
    "batch_ct_train, batch_ct_valid = 0, 0\n",
    "train_loss_history, train_acc_history, valid_loss_history, valid_acc_history = train_loop(train_loader, \n",
    "                                                                                          valid_loader, \n",
    "                                                                                          model, \n",
    "                                                                                          optimizer, \n",
    "                                                                                          loss_function, \n",
    "                                                                                          wandb.config.epochs, \n",
    "                                                                                          wandb.config.device,\n",
    "                                                                                          wandb.config.patience,\n",
    "                                                                                          wandb.config.early_stopping,\n",
    "                                                                                          wandb.config.file_model,\n",
    "                                                                                          wandb.config.save_best_model\n",
    "                                                                                       )"
   ]
  },
  {
   "cell_type": "code",
   "execution_count": null,
   "metadata": {
    "colab": {
     "base_uri": "https://localhost:8080/",
     "height": 650,
     "referenced_widgets": [
      "d30d74abe3a94a069432d52fda66715e",
      "50e71f162d934449aa7cd0296a7b540a",
      "adabb97ec1ba4d008bb1c686d42c9a7e",
      "03ebf598056b47ba8e323b150d796b4a",
      "0748c769ef464a6f8fe691b46537c6b7",
      "d3331261dd314b5591f3bd83d71fac94",
      "7de9e030734a4bf1bb5b9f6b9e250530",
      "3ebfc7aa34b746a0ba1aff79eec78510"
     ]
    },
    "id": "xpvFiaFeiR6y",
    "outputId": "a71b2a1f-4c43-4039-9d1c-3886b5fd4eed"
   },
   "outputs": [
    {
     "data": {
      "text/html": [
       "Waiting for W&B process to finish... <strong style=\"color:green\">(success).</strong>"
      ],
      "text/plain": [
       "<IPython.core.display.HTML object>"
      ]
     },
     "metadata": {},
     "output_type": "display_data"
    },
    {
     "data": {
      "application/vnd.jupyter.widget-view+json": {
       "model_id": "d30d74abe3a94a069432d52fda66715e",
       "version_major": 2,
       "version_minor": 0
      },
      "text/plain": [
       "VBox(children=(Label(value='0.001 MB of 0.001 MB uploaded (0.000 MB deduped)\\r'), FloatProgress(value=1.0, max…"
      ]
     },
     "metadata": {},
     "output_type": "display_data"
    },
    {
     "data": {
      "text/html": [
       "<style>\n",
       "    table.wandb td:nth-child(1) { padding: 0 10px; text-align: left ; width: auto;} td:nth-child(2) {text-align: left ; width: 100%}\n",
       "    .wandb-row { display: flex; flex-direction: row; flex-wrap: wrap; justify-content: flex-start; width: 100% }\n",
       "    .wandb-col { display: flex; flex-direction: column; flex-basis: 100%; flex: 1; padding: 10px; }\n",
       "    </style>\n",
       "<div class=\"wandb-row\"><div class=\"wandb-col\"><h3>Run history:</h3><br/><table class=\"wandb\"><tr><td>Train Acc :</td><td>▁▇▇██</td></tr><tr><td>Train Batch Acc :</td><td>▁▆▆▆█▇█</td></tr><tr><td>Train Batch Loss  :</td><td>█▃▃▃▂▂▁</td></tr><tr><td>Train Loss :</td><td>█▂▁▁▁</td></tr><tr><td>Valid Acc :</td><td>▁▄▇██</td></tr><tr><td>Valid Batch Accuracy :</td><td>▁█</td></tr><tr><td>Valid Batch Loss  :</td><td>█▁</td></tr><tr><td>Valid Loss :</td><td>█▄▂▁▁</td></tr><tr><td>epoch</td><td>▁▁▁▁▃▃▃▃▅▅▅▅▆▆▆▆████</td></tr></table><br/></div><div class=\"wandb-col\"><h3>Run summary:</h3><br/><table class=\"wandb\"><tr><td>Train Acc :</td><td>0.9777</td></tr><tr><td>Train Batch Acc :</td><td>0.98047</td></tr><tr><td>Train Batch Loss  :</td><td>0.04563</td></tr><tr><td>Train Loss :</td><td>0.06725</td></tr><tr><td>Valid Acc :</td><td>0.9465</td></tr><tr><td>Valid Batch Accuracy :</td><td>0.94531</td></tr><tr><td>Valid Batch Loss  :</td><td>0.21814</td></tr><tr><td>Valid Loss :</td><td>0.16522</td></tr><tr><td>epoch</td><td>4</td></tr></table><br/></div></div>"
      ],
      "text/plain": [
       "<IPython.core.display.HTML object>"
      ]
     },
     "metadata": {},
     "output_type": "display_data"
    },
    {
     "data": {
      "text/html": [
       "Synced <strong style=\"color:#cdcd00\">exp4</strong>: <a href=\"https://wandb.ai/piyushrs/Resnet_HW7/runs/1m0ke79d\" target=\"_blank\">https://wandb.ai/piyushrs/Resnet_HW7/runs/1m0ke79d</a><br/>Synced 5 W&B file(s), 0 media file(s), 0 artifact file(s) and 0 other file(s)"
      ],
      "text/plain": [
       "<IPython.core.display.HTML object>"
      ]
     },
     "metadata": {},
     "output_type": "display_data"
    },
    {
     "data": {
      "text/html": [
       "Find logs at: <code>./wandb/run-20221118_092720-1m0ke79d/logs</code>"
      ],
      "text/plain": [
       "<IPython.core.display.HTML object>"
      ]
     },
     "metadata": {},
     "output_type": "display_data"
    }
   ],
   "source": [
    "wandb.finish()"
   ]
  },
  {
   "cell_type": "markdown",
   "metadata": {},
   "source": [
    "**Wandb Link: https://wandb.ai/piyushrs/Resnet_HW7**"
   ]
  }
 ],
 "metadata": {
  "accelerator": "GPU",
  "colab": {
   "provenance": [],
   "toc_visible": true
  },
  "gpuClass": "standard",
  "kernelspec": {
   "display_name": "Python 3 (ipykernel)",
   "language": "python",
   "name": "python3"
  },
  "language_info": {
   "codemirror_mode": {
    "name": "ipython",
    "version": 3
   },
   "file_extension": ".py",
   "mimetype": "text/x-python",
   "name": "python",
   "nbconvert_exporter": "python",
   "pygments_lexer": "ipython3",
   "version": "3.10.5"
  },
  "vscode": {
   "interpreter": {
    "hash": "fa6fc890c19d0518efc3ca8fefe1ab7c2a921b84ac247755bf14d3f8c1bb1ece"
   }
  }
 },
 "nbformat": 4,
 "nbformat_minor": 1
}
