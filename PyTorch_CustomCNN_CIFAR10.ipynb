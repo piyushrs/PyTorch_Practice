{
 "cells": [
  {
   "cell_type": "markdown",
   "metadata": {},
   "source": [
    "### **Importing Libraries**"
   ]
  },
  {
   "cell_type": "code",
   "execution_count": 2,
   "metadata": {},
   "outputs": [],
   "source": [
    "# Importing the necessary libraries\n",
    "import torch\n",
    "import torch.nn as nn\n",
    "import torchvision\n",
    "import torchvision.transforms as transforms\n",
    "import torch.nn.functional as F\n",
    "\n",
    "from torch.optim.lr_scheduler import ReduceLROnPlateau, ExponentialLR, CyclicLR, OneCycleLR, StepLR\n",
    "\n",
    "import numpy as np\n",
    "import random\n",
    "\n",
    "from datetime import datetime\n",
    "from pathlib import Path\n",
    "import sys\n",
    "from types import SimpleNamespace\n",
    "\n",
    "from IPython.display import Image\n",
    "import matplotlib.pyplot as plt\n",
    "%matplotlib inline\n",
    "\n",
    "import wandb"
   ]
  },
  {
   "cell_type": "markdown",
   "metadata": {},
   "source": [
    "### **Set seed**"
   ]
  },
  {
   "cell_type": "code",
   "execution_count": 2,
   "metadata": {},
   "outputs": [],
   "source": [
    "SEED = 2345\n",
    "np.random.seed(SEED)\n",
    "torch.manual_seed(SEED)\n",
    "torch.cuda.manual_seed(SEED)\n",
    "torch.backends.cudnn.deterministic = True"
   ]
  },
  {
   "cell_type": "markdown",
   "metadata": {},
   "source": [
    "### **Wanbd Login**"
   ]
  },
  {
   "cell_type": "code",
   "execution_count": 3,
   "metadata": {},
   "outputs": [
    {
     "name": "stderr",
     "output_type": "stream",
     "text": [
      "Failed to detect the name of this notebook, you can set it manually with the WANDB_NOTEBOOK_NAME environment variable to enable code saving.\n",
      "\u001b[34m\u001b[1mwandb\u001b[0m: Currently logged in as: \u001b[33mpiyushrs\u001b[0m. Use \u001b[1m`wandb login --relogin`\u001b[0m to force relogin\n"
     ]
    },
    {
     "data": {
      "text/plain": [
       "True"
      ]
     },
     "execution_count": 3,
     "metadata": {},
     "output_type": "execute_result"
    }
   ],
   "source": [
    "# Login to W&B\n",
    "wandb.login()"
   ]
  },
  {
   "cell_type": "markdown",
   "metadata": {},
   "source": [
    "### **Data Folder declaration**"
   ]
  },
  {
   "cell_type": "code",
   "execution_count": 3,
   "metadata": {},
   "outputs": [],
   "source": [
    "base_folder = Path('u:\\\\OneDrive - The University of Texas at Dallas\\\\6382\\\\Datasets')"
   ]
  },
  {
   "cell_type": "code",
   "execution_count": 4,
   "metadata": {},
   "outputs": [],
   "source": [
    "data_folder = base_folder/'data'\n",
    "archive_folder = base_folder/'archive'\n",
    "model_folder = base_folder/'models/CIFAR_10'\n",
    "custom_functions = base_folder/'custom-functions'"
   ]
  },
  {
   "cell_type": "code",
   "execution_count": 5,
   "metadata": {},
   "outputs": [],
   "source": [
    "model_folder.mkdir(exist_ok=True, parents=True)\n",
    "data_folder.mkdir(exist_ok=True, parents=True)"
   ]
  },
  {
   "cell_type": "code",
   "execution_count": 7,
   "metadata": {},
   "outputs": [
    {
     "data": {
      "text/plain": [
       "['u:\\\\OneDrive - The University of Texas at Dallas\\\\6382\\\\Assignment 6',\n",
       " 'c:\\\\Users\\\\piyus\\\\AppData\\\\Local\\\\Programs\\\\Python\\\\Python310\\\\python310.zip',\n",
       " 'c:\\\\Users\\\\piyus\\\\AppData\\\\Local\\\\Programs\\\\Python\\\\Python310\\\\DLLs',\n",
       " 'c:\\\\Users\\\\piyus\\\\AppData\\\\Local\\\\Programs\\\\Python\\\\Python310\\\\lib',\n",
       " 'c:\\\\Users\\\\piyus\\\\AppData\\\\Local\\\\Programs\\\\Python\\\\Python310',\n",
       " '',\n",
       " 'c:\\\\Users\\\\piyus\\\\AppData\\\\Local\\\\Programs\\\\Python\\\\Python310\\\\lib\\\\site-packages',\n",
       " 'c:\\\\Users\\\\piyus\\\\AppData\\\\Local\\\\Programs\\\\Python\\\\Python310\\\\lib\\\\site-packages\\\\win32',\n",
       " 'c:\\\\Users\\\\piyus\\\\AppData\\\\Local\\\\Programs\\\\Python\\\\Python310\\\\lib\\\\site-packages\\\\win32\\\\lib',\n",
       " 'c:\\\\Users\\\\piyus\\\\AppData\\\\Local\\\\Programs\\\\Python\\\\Python310\\\\lib\\\\site-packages\\\\Pythonwin',\n",
       " 'u:\\\\OneDrive - The University of Texas at Dallas\\\\6382\\\\Datasets\\\\custom-functions']"
      ]
     },
     "execution_count": 7,
     "metadata": {},
     "output_type": "execute_result"
    }
   ],
   "source": [
    "sys.path.append(str(custom_functions))\n",
    "sys.path"
   ]
  },
  {
   "cell_type": "markdown",
   "metadata": {},
   "source": [
    "### **Transformations and downloading dataset**"
   ]
  },
  {
   "cell_type": "code",
   "execution_count": 6,
   "metadata": {},
   "outputs": [
    {
     "name": "stdout",
     "output_type": "stream",
     "text": [
      "Files already downloaded and verified\n",
      "Files already downloaded and verified\n"
     ]
    }
   ],
   "source": [
    "trans1 = transforms.ToTensor()\n",
    "trans2 = transforms.Normalize((0.5,0.5,0.5), (0.5,0.5,0.5))\n",
    "trans = transforms.Compose([trans1, trans2])\n",
    "\n",
    "train_val_set = torchvision.datasets.CIFAR10(root = data_folder,  train = True, transform = trans, download = True)\n",
    "\n",
    "testset = torchvision.datasets.CIFAR10(root = data_folder, train = False, transform = trans, download = True)"
   ]
  },
  {
   "cell_type": "markdown",
   "metadata": {},
   "source": [
    "### **Split dataset function**"
   ]
  },
  {
   "cell_type": "code",
   "execution_count": 7,
   "metadata": {},
   "outputs": [],
   "source": [
    "def split_dataset(base_dataset, fraction, seed):\n",
    "    split_a_size = int(fraction * len(base_dataset))\n",
    "    split_b_size = len(base_dataset) - split_a_size\n",
    "    return torch.utils.data.random_split(base_dataset, [split_a_size, split_b_size], generator=torch.Generator().manual_seed(seed)\n",
    "    )"
   ]
  },
  {
   "cell_type": "code",
   "execution_count": 8,
   "metadata": {},
   "outputs": [],
   "source": [
    "trainset, validset = split_dataset(train_val_set, 0.8, 42)"
   ]
  },
  {
   "cell_type": "code",
   "execution_count": 9,
   "metadata": {},
   "outputs": [
    {
     "data": {
      "text/plain": [
       "(40000, 10000)"
      ]
     },
     "execution_count": 9,
     "metadata": {},
     "output_type": "execute_result"
    }
   ],
   "source": [
    "len(trainset), len(validset)"
   ]
  },
  {
   "cell_type": "code",
   "execution_count": 10,
   "metadata": {},
   "outputs": [
    {
     "data": {
      "text/plain": [
       "['airplane',\n",
       " 'automobile',\n",
       " 'bird',\n",
       " 'cat',\n",
       " 'deer',\n",
       " 'dog',\n",
       " 'frog',\n",
       " 'horse',\n",
       " 'ship',\n",
       " 'truck']"
      ]
     },
     "execution_count": 10,
     "metadata": {},
     "output_type": "execute_result"
    }
   ],
   "source": [
    "trainset.dataset.classes"
   ]
  },
  {
   "cell_type": "code",
   "execution_count": 11,
   "metadata": {},
   "outputs": [
    {
     "data": {
      "text/plain": [
       "(50000, 32, 32, 3)"
      ]
     },
     "execution_count": 11,
     "metadata": {},
     "output_type": "execute_result"
    }
   ],
   "source": [
    "trainset.dataset.data.shape"
   ]
  },
  {
   "cell_type": "markdown",
   "metadata": {},
   "source": [
    "### <font color = \"teal\"> **Custom CNN Module**"
   ]
  },
  {
   "cell_type": "code",
   "execution_count": 14,
   "metadata": {},
   "outputs": [],
   "source": [
    "class CustomCNN(nn.Module):\n",
    "    def __init__(self):\n",
    "        super().__init__()\n",
    "        self.features = nn.Sequential(\n",
    "            nn.Conv2d(in_channels=3, out_channels=32, kernel_size=(5,5), padding=2, stride = 1, bias=True),      # 32 x 32 x 32\n",
    "            nn.ReLU(inplace=True),\n",
    "            nn.Conv2d(in_channels= 32, out_channels=16, kernel_size=(3,3), padding = 1, bias = True),        #  32 x 32 x 16\n",
    "            nn.ReLU(inplace=True)\n",
    "        )\n",
    "        self.classifier = nn.Sequential(\n",
    "            nn.Linear(32*32*16, 10, bias=True)\n",
    "        )\n",
    "\n",
    "    def forward(self, x):\n",
    "        x = self.features(x)\n",
    "        x = torch.flatten(x, 1)\n",
    "        logits = self.classifier(x)\n",
    "        return logits"
   ]
  },
  {
   "cell_type": "markdown",
   "metadata": {},
   "source": [
    "### <font color = \"aqua\"> **CustomCNN torch summary**"
   ]
  },
  {
   "cell_type": "code",
   "execution_count": 15,
   "metadata": {},
   "outputs": [
    {
     "name": "stdout",
     "output_type": "stream",
     "text": [
      "----------------------------------------------------------------\n",
      "        Layer (type)               Output Shape         Param #\n",
      "================================================================\n",
      "            Conv2d-1           [-1, 32, 32, 32]           2,432\n",
      "              ReLU-2           [-1, 32, 32, 32]               0\n",
      "            Conv2d-3           [-1, 16, 32, 32]           4,624\n",
      "              ReLU-4           [-1, 16, 32, 32]               0\n",
      "            Linear-5                   [-1, 10]         163,850\n",
      "================================================================\n",
      "Total params: 170,906\n",
      "Trainable params: 170,906\n",
      "Non-trainable params: 0\n",
      "----------------------------------------------------------------\n",
      "Input size (MB): 0.01\n",
      "Forward/backward pass size (MB): 0.75\n",
      "Params size (MB): 0.65\n",
      "Estimated Total Size (MB): 1.41\n",
      "----------------------------------------------------------------\n"
     ]
    }
   ],
   "source": [
    "from torchsummary import summary\n",
    "summary(CustomCNN().cuda(), (3, 32, 32))"
   ]
  },
  {
   "cell_type": "markdown",
   "metadata": {},
   "source": [
    "### **Train function**"
   ]
  },
  {
   "cell_type": "code",
   "execution_count": 17,
   "metadata": {},
   "outputs": [],
   "source": [
    "def train(train_loader, loss_function, model, optimizer, device, grad_clipping, max_norm, log_batch, log_interval):\n",
    "\n",
    "  # Training Loop \n",
    "\n",
    "  # initilalize variables as global\n",
    "  # these counts will be updated every epoch\n",
    "  global batch_ct_train\n",
    "\n",
    "  # Initialize train_loss at the he start of the epoch\n",
    "  running_train_loss = 0\n",
    "  running_train_correct = 0\n",
    "  \n",
    "  # put the model in training mode\n",
    "\n",
    "  model.train()\n",
    "  # Iterate on batches from the dataset using train_loader\n",
    "  for input_, targets in train_loader:\n",
    "    \n",
    "    # move inputs and outputs to GPUs\n",
    "    input_ = input_.to(device)\n",
    "    targets = targets.to(device)\n",
    "\n",
    "\n",
    "    # Step 1: Forward Pass: Compute model's predictions \n",
    "    output = model(input_)\n",
    "    \n",
    "    # Step 2: Compute loss\n",
    "    loss = loss_function(output, targets)\n",
    "\n",
    "    # Correct prediction\n",
    "    y_pred = torch.argmax(output, dim = 1)\n",
    "    correct = torch.sum(y_pred == targets)\n",
    "\n",
    "    batch_ct_train += 1\n",
    "\n",
    "    # Step 3: Backward pass -Compute the gradients\n",
    "    optimizer.zero_grad()\n",
    "    loss.backward()\n",
    "\n",
    "    # Gradient Clipping\n",
    "    if grad_clipping:\n",
    "      nn.utils.clip_grad_norm_(model.parameters(), max_norm=max_norm, norm_type=2)\n",
    "\n",
    "    # Step 4: Update the parameters\n",
    "    optimizer.step()\n",
    "          \n",
    "    # Add train loss of a batch \n",
    "    running_train_loss += loss.item()\n",
    "\n",
    "    # Add Corect counts of a batch\n",
    "    running_train_correct += correct\n",
    "\n",
    "    # log batch loss and accuracy\n",
    "    if log_batch:\n",
    "      if ((batch_ct_train + 1) % log_interval) == 0:\n",
    "        wandb.log({f\"Train Batch Loss  :\": loss})\n",
    "        wandb.log({f\"Train Batch Acc :\": correct/len(targets)})\n",
    "\n",
    "  \n",
    "  # Calculate mean train loss for the whole dataset for a particular epoch\n",
    "  train_loss = running_train_loss/len(train_loader)\n",
    "\n",
    "  # Calculate accuracy for the whole dataset for a particular epoch\n",
    "  train_acc = running_train_correct/len(train_loader.dataset)\n",
    "  \n",
    "\n",
    "  return train_loss, train_acc"
   ]
  },
  {
   "cell_type": "markdown",
   "metadata": {},
   "source": [
    "### **Validate Function**"
   ]
  },
  {
   "cell_type": "code",
   "execution_count": 18,
   "metadata": {},
   "outputs": [],
   "source": [
    "def validate(valid_loader, loss_function, model, device, log_batch, log_interval):\n",
    "\n",
    "  # initilalize variables as global\n",
    "  # these counts will be updated every epoch\n",
    "  global batch_ct_valid\n",
    "\n",
    "  # Validation/Test loop\n",
    "  # Initialize valid_loss at the he strat of the epoch\n",
    "  running_val_loss = 0\n",
    "  running_val_correct = 0\n",
    "\n",
    "  # put the model in evaluation mode\n",
    "  model.eval()\n",
    "\n",
    "  with torch.no_grad():\n",
    "    for input_,targets in valid_loader:\n",
    "\n",
    "      # move inputs and outputs to GPUs\n",
    "      input_ = input_.to(device)\n",
    "      targets = targets.to(device)\n",
    "\n",
    "      # Step 1: Forward Pass: Compute model's predictions \n",
    "      output = model(input_)\n",
    "\n",
    "      # Step 2: Compute loss\n",
    "      loss = loss_function(output, targets)\n",
    "\n",
    "      # Correct Predictions\n",
    "      y_pred = torch.argmax(output, dim = 1)\n",
    "      correct = torch.sum(y_pred == targets)\n",
    "\n",
    "      batch_ct_valid += 1\n",
    "\n",
    "      # Add val loss of a batch \n",
    "      running_val_loss += loss.item()\n",
    "\n",
    "      # Add correct count for each batch\n",
    "      running_val_correct += correct\n",
    "\n",
    "      # log batch loss and accuracy\n",
    "      if log_batch:\n",
    "        if ((batch_ct_valid + 1) % log_interval) == 0:\n",
    "          wandb.log({f\"Valid Batch Loss  :\": loss})\n",
    "          wandb.log({f\"Valid Batch Accuracy :\": correct/len(targets)})\n",
    "\n",
    "    # Calculate mean val loss for the whole dataset for a particular epoch\n",
    "    val_loss = running_val_loss/len(valid_loader)\n",
    "\n",
    "    # Calculate accuracy for the whole dataset for a particular epoch\n",
    "    val_acc = running_val_correct/len(valid_loader.dataset)\n",
    "\n",
    "    # scheduler step\n",
    "    # scheduler.step(val_loss)\n",
    "    # scheduler.step()\n",
    "    \n",
    "  return val_loss, val_acc"
   ]
  },
  {
   "cell_type": "markdown",
   "metadata": {},
   "source": [
    "### **Train Loop Function**"
   ]
  },
  {
   "cell_type": "code",
   "execution_count": 19,
   "metadata": {},
   "outputs": [],
   "source": [
    "def train_loop(train_loader, valid_loader, model, optimizer, loss_function, epochs, device, patience, early_stopping,\n",
    "               file_model, save_best_model):\n",
    "    \n",
    "  \"\"\" \n",
    "  Function for training the model and plotting the graph for train & validation loss vs epoch.\n",
    "  Input: iterator for train dataset, initial weights and bias, epochs, learning rate, batch size.\n",
    "  Output: final weights, bias and train loss and validation loss for each epoch.\n",
    "  \"\"\"\n",
    "\n",
    "  # Create lists to store train and val loss at each epoch\n",
    "  train_loss_history = []\n",
    "  valid_loss_history = []\n",
    "  train_acc_history = []\n",
    "  valid_acc_history = []\n",
    "\n",
    "  # initialize variables for early stopping\n",
    "\n",
    "  delta = 0\n",
    "  best_score = None\n",
    "  valid_loss_min = np.Inf\n",
    "  counter_early_stop=0\n",
    "  early_stop=False\n",
    "\n",
    "  # Iterate for the given number of epochs\n",
    "  # Step 5: Repeat steps 1 - 4\n",
    "\n",
    "  for epoch in range(epochs):\n",
    "\n",
    "    t0 = datetime.now()\n",
    "\n",
    "    # Get train loss and accuracy for one epoch\n",
    "    train_loss, train_acc = train(train_loader, loss_function, model, optimizer,\n",
    "                                  wandb.config.device, wandb.config.grad_clipping, \n",
    "                                  wandb.config.max_norm, wandb.config.log_batch, wandb.config.log_interval)\n",
    "    valid_loss, valid_acc   = validate(valid_loader, loss_function, model, wandb.config.device, wandb.config.log_batch, wandb.config.log_interval)\n",
    "\n",
    "    dt = datetime.now() - t0\n",
    "\n",
    "    # Save history of the Losses and accuracy\n",
    "    train_loss_history.append(train_loss)\n",
    "    train_acc_history.append(train_acc)\n",
    "\n",
    "    valid_loss_history.append(valid_loss)\n",
    "    valid_acc_history.append(valid_acc)\n",
    "\n",
    "    # Log the train and valid loss to wandb\n",
    "    wandb.log({f\"Train Loss :\": train_loss, \"epoch\": epoch})\n",
    "    wandb.log({f\"Train Acc :\": train_acc, \"epoch\": epoch})\n",
    "\n",
    "    wandb.log({f\"Valid Loss :\": valid_loss, \"epoch\": epoch})\n",
    "    wandb.log({f\"Valid Acc :\": valid_acc, \"epoch\": epoch})\n",
    "\n",
    "    if early_stopping:\n",
    "      score = -valid_loss\n",
    "      if best_score is None:\n",
    "        best_score=score\n",
    "        print(f'Validation loss has decreased ({valid_loss_min:.6f} --> {valid_loss:.6f}). Saving Model...')\n",
    "        torch.save(model.state_dict(), file_model)\n",
    "        valid_loss_min = valid_loss\n",
    "\n",
    "      elif score < best_score + delta:\n",
    "        counter_early_stop += 1\n",
    "        print(f'Early stoping counter: {counter_early_stop} out of {patience}')\n",
    "        if counter_early_stop > patience:\n",
    "          early_stop = True\n",
    "\n",
    "      \n",
    "      else:\n",
    "        best_score = score\n",
    "        print(f'Validation loss has decreased ({valid_loss_min:.6f} --> {valid_loss:.6f}). Saving model...')\n",
    "        torch.save(model.state_dict(), file_model)\n",
    "        counter_early_stop=0\n",
    "        valid_loss_min = valid_loss\n",
    "\n",
    "      if early_stop:\n",
    "        print('Early Stopping')\n",
    "        break\n",
    "\n",
    "    elif save_best_model:\n",
    "\n",
    "      score = -valid_loss\n",
    "      if best_score is None:\n",
    "        best_score=score\n",
    "        print(f'Validation loss has decreased ({valid_loss_min:.6f} --> {valid_loss:.6f}). Saving Model...')\n",
    "        torch.save(model.state_dict(), file_model)\n",
    "        valid_loss_min = valid_loss\n",
    "\n",
    "      elif score < best_score + delta:\n",
    "        print(f'Validation loss has not decreased ({valid_loss_min:.6f} --> {valid_loss:.6f}). Not Saving Model...')\n",
    "      \n",
    "      else:\n",
    "        best_score = score\n",
    "        print(f'Validation loss has decreased ({valid_loss_min:.6f} --> {valid_loss:.6f}). Saving model...')\n",
    "        torch.save(model.state_dict(), file_model)\n",
    "        valid_loss_min = valid_loss\n",
    "        \n",
    "    else:\n",
    "        torch.save(model.state_dict(), file_model)\n",
    "    \n",
    "    # Print the train loss and accuracy for given number of epochs, batch size and number of samples\n",
    "    print(f'Epoch : {epoch+1} / {epochs}')\n",
    "    print(f'Time to complete {epoch+1} is {dt}')\n",
    "    # print(f'Learning rate: {scheduler._last_lr[0]}')\n",
    "    print(f'Train Loss: {train_loss : .4f} | Train Accuracy: {train_acc * 100 : .4f}%')\n",
    "    print(f'Valid Loss: {valid_loss : .4f} | Valid Accuracy: {valid_acc * 100 : .4f}%')\n",
    "    print()\n",
    "    torch.cuda.empty_cache()\n",
    "\n",
    "  return train_loss_history, train_acc_history, valid_loss_history, valid_acc_history"
   ]
  },
  {
   "cell_type": "markdown",
   "metadata": {},
   "source": [
    "### **Get accuracy prediction function**"
   ]
  },
  {
   "cell_type": "code",
   "execution_count": 20,
   "metadata": {},
   "outputs": [],
   "source": [
    "def get_acc_pred(data_loader, model, device):\n",
    "    \n",
    "  \"\"\" \n",
    "  Function to get predictions and accuracy for a given data using estimated model\n",
    "  Input: Data iterator, Final estimated weoights, bias\n",
    "  Output: Prections and Accuracy for given dataset\n",
    "  \"\"\"\n",
    "\n",
    "  # Array to store predicted labels\n",
    "  predictions = torch.Tensor() # empty tensor\n",
    "  predictions = predictions.to(device) # move predictions to GPU\n",
    "\n",
    "  # Array to store actual labels\n",
    "  y = torch.Tensor() # empty tensor\n",
    "  y = y.to(device)\n",
    "\n",
    "  # put the model in evaluation mode\n",
    "  model.eval()\n",
    "  \n",
    "  # Iterate over batches from data iterator\n",
    "  with torch.no_grad():\n",
    "    for input_, targets in data_loader:\n",
    "      \n",
    "      # move inputs and outputs to GPUs\n",
    "      \n",
    "      input_ = input_.to(device)\n",
    "      targets = targets.to(device)\n",
    "      \n",
    "      # Calculated the predicted labels\n",
    "      output = model(input_)\n",
    "\n",
    "      # Choose the label with maximum probability\n",
    "      prediction = torch.argmax(output, dim = 1)\n",
    "\n",
    "      # Add the predicted labels to the array\n",
    "      predictions = torch.cat((predictions, prediction)) \n",
    "\n",
    "      # Add the actual labels to the array\n",
    "      y = torch.cat((y, targets)) \n",
    "\n",
    "  # Check for complete dataset if actual and predicted labels are same or not\n",
    "  # Calculate accuracy\n",
    "  acc = (predictions == y).float().mean()\n",
    "\n",
    "  # Return tuple containing predictions and accuracy\n",
    "  return predictions, acc  "
   ]
  },
  {
   "cell_type": "markdown",
   "metadata": {},
   "source": [
    "### **Meta Data** (overfitting smaller subset of trainset)"
   ]
  },
  {
   "cell_type": "code",
   "execution_count": 21,
   "metadata": {},
   "outputs": [],
   "source": [
    "hyperparameters = SimpleNamespace(\n",
    "    epochs = 10,\n",
    "    output_dim = 10,\n",
    "    batch_size= 50,\n",
    "    learning_rate=0.01,\n",
    "    dataset=\"CIFAR10\",\n",
    "    architecture=\"CustomCNN\",\n",
    "    log_interval = 25,\n",
    "    log_batch = True,\n",
    "    file_model = model_folder/'assignment_customNN_CIFAR10.pt',\n",
    "    grad_clipping = False,\n",
    "    max_norm = 0,\n",
    "    momentum = 0.9,\n",
    "    patience = 0,\n",
    "    early_stopping = False,\n",
    "    scheduler_factor = 0,\n",
    "    scheduler_patience = 0,\n",
    "    weight_decay = 0,\n",
    "    save_best_model = True,\n",
    "    device = torch.device('cuda:0' if torch.cuda.is_available() else 'cpu'))"
   ]
  },
  {
   "cell_type": "code",
   "execution_count": 23,
   "metadata": {},
   "outputs": [
    {
     "data": {
      "text/plain": [
       "_CudaDeviceProperties(name='NVIDIA GeForce RTX 2060', major=7, minor=5, total_memory=6143MB, multi_processor_count=30)"
      ]
     },
     "execution_count": 23,
     "metadata": {},
     "output_type": "execute_result"
    }
   ],
   "source": [
    "import torch\n",
    "torch.cuda.get_device_properties(\"cuda:0\")"
   ]
  },
  {
   "cell_type": "code",
   "execution_count": 22,
   "metadata": {},
   "outputs": [
    {
     "data": {
      "text/html": [
       "wandb version 0.13.4 is available!  To upgrade, please run:\n",
       " $ pip install wandb --upgrade"
      ],
      "text/plain": [
       "<IPython.core.display.HTML object>"
      ]
     },
     "metadata": {},
     "output_type": "display_data"
    },
    {
     "data": {
      "text/html": [
       "Tracking run with wandb version 0.13.2"
      ],
      "text/plain": [
       "<IPython.core.display.HTML object>"
      ]
     },
     "metadata": {},
     "output_type": "display_data"
    },
    {
     "data": {
      "text/html": [
       "Run data is saved locally in <code>u:\\OneDrive - The University of Texas at Dallas\\6382\\Assignment 6\\wandb\\run-20221102_173905-34vcuo6k</code>"
      ],
      "text/plain": [
       "<IPython.core.display.HTML object>"
      ]
     },
     "metadata": {},
     "output_type": "display_data"
    },
    {
     "data": {
      "text/html": [
       "Syncing run <strong><a href=\"https://wandb.ai/piyushrs/CustomCNN_HW6/runs/34vcuo6k\" target=\"_blank\">exp1</a></strong> to <a href=\"https://wandb.ai/piyushrs/CustomCNN_HW6\" target=\"_blank\">Weights & Biases</a> (<a href=\"https://wandb.me/run\" target=\"_blank\">docs</a>)<br/>"
      ],
      "text/plain": [
       "<IPython.core.display.HTML object>"
      ]
     },
     "metadata": {},
     "output_type": "display_data"
    },
    {
     "data": {
      "text/html": [
       "<button onClick=\"this.nextSibling.style.display='block';this.style.display='none';\">Display W&B run</button><iframe src=\"https://wandb.ai/piyushrs/CustomCNN_HW6/runs/34vcuo6k?jupyter=true\" style=\"border:none;width:100%;height:420px;display:none;\"></iframe>"
      ],
      "text/plain": [
       "<wandb.sdk.wandb_run.Run at 0x25c75c10580>"
      ]
     },
     "execution_count": 22,
     "metadata": {},
     "output_type": "execute_result"
    }
   ],
   "source": [
    "wandb.init(name = \"exp1\", project = 'CustomCNN_HW6' , config = hyperparameters)"
   ]
  },
  {
   "cell_type": "code",
   "execution_count": 23,
   "metadata": {},
   "outputs": [
    {
     "data": {
      "text/plain": [
       "{'epochs': 10, 'output_dim': 10, 'batch_size': 50, 'learning_rate': 0.01, 'dataset': 'CIFAR10', 'architecture': 'CustomCNN', 'log_interval': 25, 'log_batch': True, 'file_model': 'u:\\\\OneDrive - The University of Texas at Dallas\\\\6382\\\\Datasets\\\\models\\\\CIFAR_10\\\\assignment_customNN_CIFAR10.pt', 'grad_clipping': False, 'max_norm': 0, 'momentum': 0.9, 'patience': 0, 'early_stopping': False, 'scheduler_factor': 0, 'scheduler_patience': 0, 'weight_decay': 0, 'save_best_model': True, 'device': 'cuda:0'}"
      ]
     },
     "execution_count": 23,
     "metadata": {},
     "output_type": "execute_result"
    }
   ],
   "source": [
    "wandb.config"
   ]
  },
  {
   "cell_type": "markdown",
   "metadata": {},
   "source": [
    "### **Data Loaders**"
   ]
  },
  {
   "cell_type": "code",
   "execution_count": 24,
   "metadata": {},
   "outputs": [],
   "source": [
    "subset_size = int(len(trainset)/400)\n",
    "subset_indices = random.sample(range(0, len(trainset)), subset_size)\n",
    "subset_sample = torch.utils.data.Subset(trainset, subset_indices)\n",
    "trainsubset = torch.utils.data.DataLoader(subset_sample, batch_size= wandb.config.batch_size, shuffle= False)\n",
    "\n",
    "valid_loader = torch.utils.data.DataLoader(validset, batch_size=wandb.config.batch_size, shuffle=False)\n",
    "test_loader = torch.utils.data.DataLoader(testset, batch_size=wandb.config.batch_size, shuffle=False)"
   ]
  },
  {
   "cell_type": "markdown",
   "metadata": {},
   "source": [
    "### **Init weights with Kaiming initialization**"
   ]
  },
  {
   "cell_type": "code",
   "execution_count": 25,
   "metadata": {},
   "outputs": [],
   "source": [
    "def init_weight(layer):\n",
    "  if type(layer) == nn.Linear:\n",
    "    torch.nn.init.kaiming_normal_(layer.weight)\n",
    "    torch.nn.init.zeros_(layer.bias)\n",
    "  \n",
    "  if type(layer) == nn.Conv2d:\n",
    "    torch.nn.init.kaiming_normal_(layer.weight)\n",
    "    torch.nn.init.zeros_(layer.bias)"
   ]
  },
  {
   "cell_type": "code",
   "execution_count": 26,
   "metadata": {},
   "outputs": [],
   "source": [
    "model = CustomCNN()\n",
    "model.to(wandb.config.device)\n",
    "model.apply(init_weight)\n",
    "loss_function = nn.CrossEntropyLoss()\n",
    "optim = torch.optim.SGD(model.parameters(), lr= wandb.config.learning_rate, \n",
    "                                            momentum=wandb.config.momentum, nesterov= True)"
   ]
  },
  {
   "cell_type": "markdown",
   "metadata": {},
   "source": [
    "### <font color = \"Red\"> **Training Model**"
   ]
  },
  {
   "cell_type": "code",
   "execution_count": 27,
   "metadata": {},
   "outputs": [
    {
     "data": {
      "text/plain": [
       "[]"
      ]
     },
     "execution_count": 27,
     "metadata": {},
     "output_type": "execute_result"
    }
   ],
   "source": [
    "wandb.watch(model)"
   ]
  },
  {
   "cell_type": "code",
   "execution_count": 28,
   "metadata": {},
   "outputs": [
    {
     "name": "stdout",
     "output_type": "stream",
     "text": [
      "Validation loss has decreased (inf --> 2.834355). Saving Model...\n",
      "Epoch : 1 / 10\n",
      "Time to complete 1 is 0:00:02.253217\n",
      "Train Loss:  3.3098 | Train Accuracy:  10.0000%\n",
      "Valid Loss:  2.8344 | Valid Accuracy:  14.1200%\n",
      "\n",
      "Validation loss has decreased (2.834355 --> 2.274717). Saving model...\n",
      "Epoch : 2 / 10\n",
      "Time to complete 2 is 0:00:02.198299\n",
      "Train Loss:  2.5384 | Train Accuracy:  24.0000%\n",
      "Valid Loss:  2.2747 | Valid Accuracy:  14.8900%\n",
      "\n",
      "Validation loss has decreased (2.274717 --> 2.246001). Saving model...\n",
      "Epoch : 3 / 10\n",
      "Time to complete 3 is 0:00:02.225541\n",
      "Train Loss:  2.0079 | Train Accuracy:  46.0000%\n",
      "Valid Loss:  2.2460 | Valid Accuracy:  14.7400%\n",
      "\n",
      "Validation loss has not decreased (2.246001 --> 2.422808). Not Saving Model...\n",
      "Epoch : 4 / 10\n",
      "Time to complete 4 is 0:00:02.592068\n",
      "Train Loss:  1.7431 | Train Accuracy:  46.0000%\n",
      "Valid Loss:  2.4228 | Valid Accuracy:  15.6700%\n",
      "\n",
      "Validation loss has not decreased (2.246001 --> 2.449852). Not Saving Model...\n",
      "Epoch : 5 / 10\n",
      "Time to complete 5 is 0:00:02.241955\n",
      "Train Loss:  1.4979 | Train Accuracy:  50.0000%\n",
      "Valid Loss:  2.4499 | Valid Accuracy:  18.6900%\n",
      "\n",
      "Validation loss has not decreased (2.246001 --> 2.430025). Not Saving Model...\n",
      "Epoch : 6 / 10\n",
      "Time to complete 6 is 0:00:02.074041\n",
      "Train Loss:  1.2760 | Train Accuracy:  55.0000%\n",
      "Valid Loss:  2.4300 | Valid Accuracy:  20.2400%\n",
      "\n",
      "Validation loss has not decreased (2.246001 --> 2.580600). Not Saving Model...\n",
      "Epoch : 7 / 10\n",
      "Time to complete 7 is 0:00:02.066445\n",
      "Train Loss:  0.9809 | Train Accuracy:  74.0000%\n",
      "Valid Loss:  2.5806 | Valid Accuracy:  19.9400%\n",
      "\n",
      "Validation loss has not decreased (2.246001 --> 2.946293). Not Saving Model...\n",
      "Epoch : 8 / 10\n",
      "Time to complete 8 is 0:00:02.090859\n",
      "Train Loss:  0.6546 | Train Accuracy:  86.0000%\n",
      "Valid Loss:  2.9463 | Valid Accuracy:  19.2000%\n",
      "\n",
      "Validation loss has not decreased (2.246001 --> 3.399662). Not Saving Model...\n",
      "Epoch : 9 / 10\n",
      "Time to complete 9 is 0:00:02.206331\n",
      "Train Loss:  0.4138 | Train Accuracy:  91.0000%\n",
      "Valid Loss:  3.3997 | Valid Accuracy:  18.7900%\n",
      "\n",
      "Validation loss has not decreased (2.246001 --> 3.919573). Not Saving Model...\n",
      "Epoch : 10 / 10\n",
      "Time to complete 10 is 0:00:02.150679\n",
      "Train Loss:  0.3159 | Train Accuracy:  92.0000%\n",
      "Valid Loss:  3.9196 | Valid Accuracy:  19.7400%\n",
      "\n"
     ]
    }
   ],
   "source": [
    "# See live graphs in the notebook.\n",
    "#%%wandb \n",
    "batch_ct_train, batch_ct_valid = 0, 0\n",
    "train_loss_history, train_acc_history, valid_loss_history, valid_acc_history = train_loop(trainsubset, \n",
    "                                                                                          valid_loader, \n",
    "                                                                                          model, \n",
    "                                                                                          optim, \n",
    "                                                                                          loss_function, \n",
    "                                                                                          wandb.config.epochs, \n",
    "                                                                                          wandb.config.device,\n",
    "                                                                                          wandb.config.patience,\n",
    "                                                                                          wandb.config.early_stopping,\n",
    "                                                                                          wandb.config.file_model,\n",
    "                                                                                          wandb.config.save_best_model\n",
    "                                                                                          )"
   ]
  },
  {
   "cell_type": "code",
   "execution_count": 29,
   "metadata": {},
   "outputs": [
    {
     "data": {
      "text/html": [
       "Waiting for W&B process to finish... <strong style=\"color:green\">(success).</strong>"
      ],
      "text/plain": [
       "<IPython.core.display.HTML object>"
      ]
     },
     "metadata": {},
     "output_type": "display_data"
    },
    {
     "data": {
      "application/vnd.jupyter.widget-view+json": {
       "model_id": "d8890bdb54214c499ca8952dff10aabb",
       "version_major": 2,
       "version_minor": 0
      },
      "text/plain": [
       "VBox(children=(Label(value='0.000 MB of 0.000 MB uploaded (0.000 MB deduped)\\r'), FloatProgress(value=1.0, max…"
      ]
     },
     "metadata": {},
     "output_type": "display_data"
    },
    {
     "data": {
      "text/html": [
       "<style>\n",
       "    table.wandb td:nth-child(1) { padding: 0 10px; text-align: left ; width: auto;} td:nth-child(2) {text-align: left ; width: 100%}\n",
       "    .wandb-row { display: flex; flex-direction: row; flex-wrap: wrap; justify-content: flex-start; width: 100% }\n",
       "    .wandb-col { display: flex; flex-direction: column; flex-basis: 100%; flex: 1; padding: 10px; }\n",
       "    </style>\n",
       "<div class=\"wandb-row\"><div class=\"wandb-col\"><h3>Run history:</h3><br/><table class=\"wandb\"><tr><td>Train Acc :</td><td>▁▂▄▄▄▅▆▇██</td></tr><tr><td>Train Loss :</td><td>█▆▅▄▄▃▃▂▁▁</td></tr><tr><td>Valid Acc :</td><td>▁▂▂▃▆██▇▆▇</td></tr><tr><td>Valid Batch Accuracy :</td><td>▄▃▆▃█▃▅▃▅▁▃▃▁▃▄▅▄▃▄▆▄▃▆▇▅▆▆▇▃▆▅▅▅▄▅▅▄▆▄█</td></tr><tr><td>Valid Batch Loss  :</td><td>▃▅▂▃▁▂▁▁▁▁▂▁▂▂▂▂▂▂▂▁▂▁▂▁▂▁▃▂▃▃▄▃▅▅▆▅▆▇▇█</td></tr><tr><td>Valid Loss :</td><td>▃▁▁▂▂▂▂▄▆█</td></tr><tr><td>epoch</td><td>▁▁▁▁▂▂▂▂▃▃▃▃▃▃▃▃▄▄▄▄▅▅▅▅▆▆▆▆▆▆▆▆▇▇▇▇████</td></tr></table><br/></div><div class=\"wandb-col\"><h3>Run summary:</h3><br/><table class=\"wandb\"><tr><td>Train Acc :</td><td>0.92</td></tr><tr><td>Train Loss :</td><td>0.31587</td></tr><tr><td>Valid Acc :</td><td>0.1974</td></tr><tr><td>Valid Batch Accuracy :</td><td>0.24</td></tr><tr><td>Valid Batch Loss  :</td><td>3.91006</td></tr><tr><td>Valid Loss :</td><td>3.91957</td></tr><tr><td>epoch</td><td>9</td></tr></table><br/></div></div>"
      ],
      "text/plain": [
       "<IPython.core.display.HTML object>"
      ]
     },
     "metadata": {},
     "output_type": "display_data"
    },
    {
     "data": {
      "text/html": [
       "Synced <strong style=\"color:#cdcd00\">exp1</strong>: <a href=\"https://wandb.ai/piyushrs/CustomCNN_HW6/runs/34vcuo6k\" target=\"_blank\">https://wandb.ai/piyushrs/CustomCNN_HW6/runs/34vcuo6k</a><br/>Synced 5 W&B file(s), 0 media file(s), 0 artifact file(s) and 0 other file(s)"
      ],
      "text/plain": [
       "<IPython.core.display.HTML object>"
      ]
     },
     "metadata": {},
     "output_type": "display_data"
    },
    {
     "data": {
      "text/html": [
       "Find logs at: <code>.\\wandb\\run-20221102_173905-34vcuo6k\\logs</code>"
      ],
      "text/plain": [
       "<IPython.core.display.HTML object>"
      ]
     },
     "metadata": {},
     "output_type": "display_data"
    }
   ],
   "source": [
    "wandb.finish()"
   ]
  },
  {
   "cell_type": "markdown",
   "metadata": {},
   "source": [
    "## <font color = \"aqua\"> **Training Full Dataset**"
   ]
  },
  {
   "cell_type": "code",
   "execution_count": 30,
   "metadata": {},
   "outputs": [],
   "source": [
    "hyperparameters = SimpleNamespace(\n",
    "    epochs = 15,\n",
    "    output_dim = 10,\n",
    "    batch_size= 40,\n",
    "    learning_rate=0.01,\n",
    "    dataset=\"CIFAR10\",\n",
    "    architecture=\"CustomCNN\",\n",
    "    log_interval = 25,\n",
    "    log_batch = True,\n",
    "    file_model = model_folder/'assignment_customNN_CIFAR10.pt',\n",
    "    grad_clipping = False,\n",
    "    max_norm = 0,\n",
    "    momentum = 0.9,\n",
    "    patience = 0,\n",
    "    early_stopping = False,\n",
    "    scheduler_factor = 0,\n",
    "    scheduler_patience = 0,\n",
    "    weight_decay = 0,\n",
    "    save_best_model = True,\n",
    "    device = torch.device('cuda:0' if torch.cuda.is_available() else 'cpu'))"
   ]
  },
  {
   "cell_type": "code",
   "execution_count": 31,
   "metadata": {},
   "outputs": [
    {
     "data": {
      "text/html": [
       "wandb version 0.13.4 is available!  To upgrade, please run:\n",
       " $ pip install wandb --upgrade"
      ],
      "text/plain": [
       "<IPython.core.display.HTML object>"
      ]
     },
     "metadata": {},
     "output_type": "display_data"
    },
    {
     "data": {
      "text/html": [
       "Tracking run with wandb version 0.13.2"
      ],
      "text/plain": [
       "<IPython.core.display.HTML object>"
      ]
     },
     "metadata": {},
     "output_type": "display_data"
    },
    {
     "data": {
      "text/html": [
       "Run data is saved locally in <code>u:\\OneDrive - The University of Texas at Dallas\\6382\\Assignment 6\\wandb\\run-20221102_174052-32fp66er</code>"
      ],
      "text/plain": [
       "<IPython.core.display.HTML object>"
      ]
     },
     "metadata": {},
     "output_type": "display_data"
    },
    {
     "data": {
      "text/html": [
       "Syncing run <strong><a href=\"https://wandb.ai/piyushrs/CustomCNN_HW6/runs/32fp66er\" target=\"_blank\">exp2</a></strong> to <a href=\"https://wandb.ai/piyushrs/CustomCNN_HW6\" target=\"_blank\">Weights & Biases</a> (<a href=\"https://wandb.me/run\" target=\"_blank\">docs</a>)<br/>"
      ],
      "text/plain": [
       "<IPython.core.display.HTML object>"
      ]
     },
     "metadata": {},
     "output_type": "display_data"
    },
    {
     "data": {
      "text/html": [
       "<button onClick=\"this.nextSibling.style.display='block';this.style.display='none';\">Display W&B run</button><iframe src=\"https://wandb.ai/piyushrs/CustomCNN_HW6/runs/32fp66er?jupyter=true\" style=\"border:none;width:100%;height:420px;display:none;\"></iframe>"
      ],
      "text/plain": [
       "<wandb.sdk.wandb_run.Run at 0x25c20e641f0>"
      ]
     },
     "execution_count": 31,
     "metadata": {},
     "output_type": "execute_result"
    }
   ],
   "source": [
    "wandb.init(name = \"exp2\", project = 'CustomCNN_HW6' , config = hyperparameters)"
   ]
  },
  {
   "cell_type": "code",
   "execution_count": 32,
   "metadata": {},
   "outputs": [],
   "source": [
    "train_loader = torch.utils.data.DataLoader(trainset, batch_size= wandb.config.batch_size, shuffle= True)\n",
    "valid_loader = torch.utils.data.DataLoader(validset, batch_size=wandb.config.batch_size, shuffle=False)\n",
    "test_loader = torch.utils.data.DataLoader(testset, batch_size=wandb.config.batch_size, shuffle=False)"
   ]
  },
  {
   "cell_type": "code",
   "execution_count": 33,
   "metadata": {},
   "outputs": [],
   "source": [
    "model = CustomCNN()\n",
    "model.to(wandb.config.device)\n",
    "model.apply(init_weight)\n",
    "loss_function = nn.CrossEntropyLoss()\n",
    "optim = torch.optim.SGD(model.parameters(), lr= wandb.config.learning_rate, \n",
    "                                            momentum=wandb.config.momentum, nesterov= True)"
   ]
  },
  {
   "cell_type": "code",
   "execution_count": 34,
   "metadata": {},
   "outputs": [
    {
     "data": {
      "text/plain": [
       "[]"
      ]
     },
     "execution_count": 34,
     "metadata": {},
     "output_type": "execute_result"
    }
   ],
   "source": [
    "wandb.watch(model)"
   ]
  },
  {
   "cell_type": "code",
   "execution_count": 35,
   "metadata": {},
   "outputs": [
    {
     "name": "stdout",
     "output_type": "stream",
     "text": [
      "Validation loss has decreased (inf --> 1.219289). Saving Model...\n",
      "Epoch : 1 / 15\n",
      "Time to complete 1 is 0:00:14.318595\n",
      "Train Loss:  1.4436 | Train Accuracy:  49.0800%\n",
      "Valid Loss:  1.2193 | Valid Accuracy:  56.5000%\n",
      "\n",
      "Validation loss has decreased (1.219289 --> 1.160565). Saving model...\n",
      "Epoch : 2 / 15\n",
      "Time to complete 2 is 0:00:13.943355\n",
      "Train Loss:  1.1127 | Train Accuracy:  61.2925%\n",
      "Valid Loss:  1.1606 | Valid Accuracy:  59.3700%\n",
      "\n",
      "Validation loss has decreased (1.160565 --> 1.150188). Saving model...\n",
      "Epoch : 3 / 15\n",
      "Time to complete 3 is 0:00:14.000636\n",
      "Train Loss:  0.9347 | Train Accuracy:  67.8050%\n",
      "Valid Loss:  1.1502 | Valid Accuracy:  60.3000%\n",
      "\n",
      "Validation loss has not decreased (1.150188 --> 1.225996). Not Saving Model...\n",
      "Epoch : 4 / 15\n",
      "Time to complete 4 is 0:00:13.962097\n",
      "Train Loss:  0.7901 | Train Accuracy:  72.8275%\n",
      "Valid Loss:  1.2260 | Valid Accuracy:  58.8900%\n",
      "\n",
      "Validation loss has not decreased (1.150188 --> 1.325119). Not Saving Model...\n",
      "Epoch : 5 / 15\n",
      "Time to complete 5 is 0:00:14.020226\n",
      "Train Loss:  0.6610 | Train Accuracy:  76.8725%\n",
      "Valid Loss:  1.3251 | Valid Accuracy:  59.6000%\n",
      "\n",
      "Validation loss has not decreased (1.150188 --> 1.435410). Not Saving Model...\n",
      "Epoch : 6 / 15\n",
      "Time to complete 6 is 0:00:14.676134\n",
      "Train Loss:  0.5452 | Train Accuracy:  80.9100%\n",
      "Valid Loss:  1.4354 | Valid Accuracy:  58.4700%\n",
      "\n",
      "Validation loss has not decreased (1.150188 --> 1.627077). Not Saving Model...\n",
      "Epoch : 7 / 15\n",
      "Time to complete 7 is 0:00:14.574825\n",
      "Train Loss:  0.4548 | Train Accuracy:  84.0675%\n",
      "Valid Loss:  1.6271 | Valid Accuracy:  56.3000%\n",
      "\n",
      "Validation loss has not decreased (1.150188 --> 1.867643). Not Saving Model...\n",
      "Epoch : 8 / 15\n",
      "Time to complete 8 is 0:00:13.732796\n",
      "Train Loss:  0.3711 | Train Accuracy:  87.0150%\n",
      "Valid Loss:  1.8676 | Valid Accuracy:  56.8200%\n",
      "\n",
      "Validation loss has not decreased (1.150188 --> 2.049817). Not Saving Model...\n",
      "Epoch : 9 / 15\n",
      "Time to complete 9 is 0:00:13.820665\n",
      "Train Loss:  0.3129 | Train Accuracy:  88.9950%\n",
      "Valid Loss:  2.0498 | Valid Accuracy:  56.4000%\n",
      "\n",
      "Validation loss has not decreased (1.150188 --> 2.413197). Not Saving Model...\n",
      "Epoch : 10 / 15\n",
      "Time to complete 10 is 0:00:13.311843\n",
      "Train Loss:  0.2570 | Train Accuracy:  90.8125%\n",
      "Valid Loss:  2.4132 | Valid Accuracy:  56.1900%\n",
      "\n",
      "Validation loss has not decreased (1.150188 --> 2.644554). Not Saving Model...\n",
      "Epoch : 11 / 15\n",
      "Time to complete 11 is 0:00:13.220996\n",
      "Train Loss:  0.2370 | Train Accuracy:  91.5350%\n",
      "Valid Loss:  2.6446 | Valid Accuracy:  55.9200%\n",
      "\n",
      "Validation loss has not decreased (1.150188 --> 2.796685). Not Saving Model...\n",
      "Epoch : 12 / 15\n",
      "Time to complete 12 is 0:00:13.340338\n",
      "Train Loss:  0.2127 | Train Accuracy:  92.4375%\n",
      "Valid Loss:  2.7967 | Valid Accuracy:  54.5500%\n",
      "\n",
      "Validation loss has not decreased (1.150188 --> 3.043063). Not Saving Model...\n",
      "Epoch : 13 / 15\n",
      "Time to complete 13 is 0:00:13.448972\n",
      "Train Loss:  0.2000 | Train Accuracy:  92.9375%\n",
      "Valid Loss:  3.0431 | Valid Accuracy:  54.7700%\n",
      "\n",
      "Validation loss has not decreased (1.150188 --> 3.364400). Not Saving Model...\n",
      "Epoch : 14 / 15\n",
      "Time to complete 14 is 0:00:13.386868\n",
      "Train Loss:  0.1935 | Train Accuracy:  93.3100%\n",
      "Valid Loss:  3.3644 | Valid Accuracy:  54.5100%\n",
      "\n",
      "Validation loss has not decreased (1.150188 --> 3.597783). Not Saving Model...\n",
      "Epoch : 15 / 15\n",
      "Time to complete 15 is 0:00:13.354671\n",
      "Train Loss:  0.1916 | Train Accuracy:  93.3900%\n",
      "Valid Loss:  3.5978 | Valid Accuracy:  53.7000%\n",
      "\n"
     ]
    }
   ],
   "source": [
    "# See live graphs in the notebook.\n",
    "#%%wandb \n",
    "batch_ct_train, batch_ct_valid = 0, 0\n",
    "train_loss_history, train_acc_history, valid_loss_history, valid_acc_history = train_loop(train_loader, \n",
    "                                                                                          valid_loader, \n",
    "                                                                                          model, \n",
    "                                                                                          optim, \n",
    "                                                                                          loss_function, \n",
    "                                                                                          wandb.config.epochs, \n",
    "                                                                                          wandb.config.device,\n",
    "                                                                                          wandb.config.patience,\n",
    "                                                                                          wandb.config.early_stopping,\n",
    "                                                                                          wandb.config.file_model,\n",
    "                                                                                          wandb.config.save_best_model\n",
    "                                                                                          )"
   ]
  },
  {
   "cell_type": "code",
   "execution_count": 36,
   "metadata": {},
   "outputs": [
    {
     "data": {
      "text/html": [
       "Waiting for W&B process to finish... <strong style=\"color:green\">(success).</strong>"
      ],
      "text/plain": [
       "<IPython.core.display.HTML object>"
      ]
     },
     "metadata": {},
     "output_type": "display_data"
    },
    {
     "data": {
      "application/vnd.jupyter.widget-view+json": {
       "model_id": "a517ed1428fe495f9fe24065baa421b2",
       "version_major": 2,
       "version_minor": 0
      },
      "text/plain": [
       "VBox(children=(Label(value='0.000 MB of 0.000 MB uploaded (0.000 MB deduped)\\r'), FloatProgress(value=1.0, max…"
      ]
     },
     "metadata": {},
     "output_type": "display_data"
    },
    {
     "data": {
      "text/html": [
       "<style>\n",
       "    table.wandb td:nth-child(1) { padding: 0 10px; text-align: left ; width: auto;} td:nth-child(2) {text-align: left ; width: 100%}\n",
       "    .wandb-row { display: flex; flex-direction: row; flex-wrap: wrap; justify-content: flex-start; width: 100% }\n",
       "    .wandb-col { display: flex; flex-direction: column; flex-basis: 100%; flex: 1; padding: 10px; }\n",
       "    </style>\n",
       "<div class=\"wandb-row\"><div class=\"wandb-col\"><h3>Run history:</h3><br/><table class=\"wandb\"><tr><td>Train Acc :</td><td>▁▃▄▅▅▆▇▇▇██████</td></tr><tr><td>Train Batch Acc :</td><td>▁▁▃▃▄▅▄▃▅▅▆▆▅▅▆▆▇▆▆▇▆▅▇▇█▆▆▇▇▇▇▇▇█▇▇▇█▇▇</td></tr><tr><td>Train Batch Loss  :</td><td>█▇▆▇▄▄▅▆▄▄▃▂▄▄▂▄▂▃▄▂▂▃▂▂▁▃▂▂▂▁▂▂▁▁▂▁▂▁▂▁</td></tr><tr><td>Train Loss :</td><td>█▆▅▄▄▃▂▂▂▁▁▁▁▁▁</td></tr><tr><td>Valid Acc :</td><td>▄▇█▇▇▆▄▄▄▄▃▂▂▂▁</td></tr><tr><td>Valid Batch Accuracy :</td><td>▁▂█▅▅▅▄▆▅▅▇▅▄▅▄▅▅▄▄▃▄▅▄▇▄▃▃▅▅▄▂▄▃▃▂▄▅▇▄▃</td></tr><tr><td>Valid Batch Loss  :</td><td>▂▂▁▁▁▂▁▁▁▁▁▁▂▂▂▂▂▂▃▂▃▃▃▂▃▃▅▃▄▃▅▄▄▆▇▄▄▃▆█</td></tr><tr><td>Valid Loss :</td><td>▁▁▁▁▂▂▂▃▄▅▅▆▆▇█</td></tr><tr><td>epoch</td><td>▁▁▁▁▁▁▂▂▃▃▃▃▃▃▃▃▄▄▄▅▅▅▅▅▅▅▅▆▆▆▇▇▇▇▇▇▇▇██</td></tr></table><br/></div><div class=\"wandb-col\"><h3>Run summary:</h3><br/><table class=\"wandb\"><tr><td>Train Acc :</td><td>0.9339</td></tr><tr><td>Train Batch Acc :</td><td>0.925</td></tr><tr><td>Train Batch Loss  :</td><td>0.16212</td></tr><tr><td>Train Loss :</td><td>0.19159</td></tr><tr><td>Valid Acc :</td><td>0.537</td></tr><tr><td>Valid Batch Accuracy :</td><td>0.55</td></tr><tr><td>Valid Batch Loss  :</td><td>4.49734</td></tr><tr><td>Valid Loss :</td><td>3.59778</td></tr><tr><td>epoch</td><td>14</td></tr></table><br/></div></div>"
      ],
      "text/plain": [
       "<IPython.core.display.HTML object>"
      ]
     },
     "metadata": {},
     "output_type": "display_data"
    },
    {
     "data": {
      "text/html": [
       "Synced <strong style=\"color:#cdcd00\">exp2</strong>: <a href=\"https://wandb.ai/piyushrs/CustomCNN_HW6/runs/32fp66er\" target=\"_blank\">https://wandb.ai/piyushrs/CustomCNN_HW6/runs/32fp66er</a><br/>Synced 5 W&B file(s), 0 media file(s), 0 artifact file(s) and 0 other file(s)"
      ],
      "text/plain": [
       "<IPython.core.display.HTML object>"
      ]
     },
     "metadata": {},
     "output_type": "display_data"
    },
    {
     "data": {
      "text/html": [
       "Find logs at: <code>.\\wandb\\run-20221102_174052-32fp66er\\logs</code>"
      ],
      "text/plain": [
       "<IPython.core.display.HTML object>"
      ]
     },
     "metadata": {},
     "output_type": "display_data"
    }
   ],
   "source": [
    "wandb.finish()"
   ]
  }
 ],
 "metadata": {
  "kernelspec": {
   "display_name": "Python 3.10.5 64-bit",
   "language": "python",
   "name": "python3"
  },
  "language_info": {
   "codemirror_mode": {
    "name": "ipython",
    "version": 3
   },
   "file_extension": ".py",
   "mimetype": "text/x-python",
   "name": "python",
   "nbconvert_exporter": "python",
   "pygments_lexer": "ipython3",
   "version": "3.10.5 (tags/v3.10.5:f377153, Jun  6 2022, 16:14:13) [MSC v.1929 64 bit (AMD64)]"
  },
  "orig_nbformat": 4,
  "vscode": {
   "interpreter": {
    "hash": "fa6fc890c19d0518efc3ca8fefe1ab7c2a921b84ac247755bf14d3f8c1bb1ece"
   }
  }
 },
 "nbformat": 4,
 "nbformat_minor": 2
}
